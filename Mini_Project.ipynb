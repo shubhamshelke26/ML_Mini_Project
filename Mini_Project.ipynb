{
  "nbformat": 4,
  "nbformat_minor": 0,
  "metadata": {
    "colab": {
      "name": "Mini_Project.ipynb",
      "provenance": [],
      "collapsed_sections": [],
      "include_colab_link": true
    },
    "kernelspec": {
      "name": "python3",
      "display_name": "Python 3"
    },
    "language_info": {
      "name": "python"
    }
  },
  "cells": [
    {
      "cell_type": "markdown",
      "metadata": {
        "id": "view-in-github",
        "colab_type": "text"
      },
      "source": [
        "<a href=\"https://colab.research.google.com/github/shubhamshelke26/ML_Mini_Project/blob/main/Mini_Project.ipynb\" target=\"_parent\"><img src=\"https://colab.research.google.com/assets/colab-badge.svg\" alt=\"Open In Colab\"/></a>"
      ]
    },
    {
      "cell_type": "code",
      "metadata": {
        "colab": {
          "base_uri": "https://localhost:8080/"
        },
        "id": "YQWER8oevRO4",
        "outputId": "ef67d2ef-35e6-4f14-b25b-e44b558f72ca"
      },
      "source": [
        "from google.colab import drive\n",
        "drive.mount('/content/drive')"
      ],
      "execution_count": null,
      "outputs": [
        {
          "output_type": "stream",
          "text": [
            "Mounted at /content/drive\n"
          ],
          "name": "stdout"
        }
      ]
    },
    {
      "cell_type": "code",
      "metadata": {
        "id": "k1tm07Wl1W2g"
      },
      "source": [
        "import pandas as pd\n",
        "import numpy as np\n",
        "import matplotlib.pyplot as plt\n",
        "import seaborn as sns\n",
        "from sklearn.model_selection import train_test_split \n",
        "from sklearn import preprocessing\n",
        "%matplotlib inline"
      ],
      "execution_count": null,
      "outputs": []
    },
    {
      "cell_type": "code",
      "metadata": {
        "id": "I6qNHASD12Ws"
      },
      "source": [
        "kickstarter = pd.read_csv(\"/content/drive/MyDrive/Colab Notebooks/kickstarter_17_18.csv\")"
      ],
      "execution_count": null,
      "outputs": []
    },
    {
      "cell_type": "code",
      "metadata": {
        "id": "wpXVQFLELyxz",
        "colab": {
          "base_uri": "https://localhost:8080/",
          "height": 530
        },
        "outputId": "30d7d9ad-1634-4380-b9d6-b2c5081d72d0"
      },
      "source": [
        "kickstarter.head()"
      ],
      "execution_count": null,
      "outputs": [
        {
          "output_type": "execute_result",
          "data": {
            "text/html": [
              "<div>\n",
              "<style scoped>\n",
              "    .dataframe tbody tr th:only-of-type {\n",
              "        vertical-align: middle;\n",
              "    }\n",
              "\n",
              "    .dataframe tbody tr th {\n",
              "        vertical-align: top;\n",
              "    }\n",
              "\n",
              "    .dataframe thead th {\n",
              "        text-align: right;\n",
              "    }\n",
              "</style>\n",
              "<table border=\"1\" class=\"dataframe\">\n",
              "  <thead>\n",
              "    <tr style=\"text-align: right;\">\n",
              "      <th></th>\n",
              "      <th>ID</th>\n",
              "      <th>name</th>\n",
              "      <th>category</th>\n",
              "      <th>main_category</th>\n",
              "      <th>currency</th>\n",
              "      <th>deadline</th>\n",
              "      <th>goal</th>\n",
              "      <th>launched</th>\n",
              "      <th>pledged</th>\n",
              "      <th>state</th>\n",
              "      <th>backers</th>\n",
              "      <th>country</th>\n",
              "      <th>usd pledged</th>\n",
              "      <th>usd_pledged_real</th>\n",
              "      <th>usd_goal_real</th>\n",
              "    </tr>\n",
              "  </thead>\n",
              "  <tbody>\n",
              "    <tr>\n",
              "      <th>0</th>\n",
              "      <td>1000003930</td>\n",
              "      <td>Greeting From Earth: ZGAC Arts Capsule For ET</td>\n",
              "      <td>Narrative Film</td>\n",
              "      <td>Film &amp; Video</td>\n",
              "      <td>USD</td>\n",
              "      <td>11/1/2017</td>\n",
              "      <td>30000</td>\n",
              "      <td>9/2/2017 4:43</td>\n",
              "      <td>2421.00</td>\n",
              "      <td>failed</td>\n",
              "      <td>15</td>\n",
              "      <td>US</td>\n",
              "      <td>100.00</td>\n",
              "      <td>2421.00</td>\n",
              "      <td>30000.00</td>\n",
              "    </tr>\n",
              "    <tr>\n",
              "      <th>1</th>\n",
              "      <td>1000057089</td>\n",
              "      <td>Tombstone: Old West tabletop game and miniatur...</td>\n",
              "      <td>Tabletop Games</td>\n",
              "      <td>Games</td>\n",
              "      <td>GBP</td>\n",
              "      <td>5/3/2017</td>\n",
              "      <td>5000</td>\n",
              "      <td>4/5/2017 19:44</td>\n",
              "      <td>94175.00</td>\n",
              "      <td>successful</td>\n",
              "      <td>761</td>\n",
              "      <td>GB</td>\n",
              "      <td>57763.78</td>\n",
              "      <td>121857.33</td>\n",
              "      <td>6469.73</td>\n",
              "    </tr>\n",
              "    <tr>\n",
              "      <th>2</th>\n",
              "      <td>1000081649</td>\n",
              "      <td>MikeyJ clothing brand fundraiser</td>\n",
              "      <td>Childrenswear</td>\n",
              "      <td>Fashion</td>\n",
              "      <td>AUD</td>\n",
              "      <td>9/7/2017</td>\n",
              "      <td>2500</td>\n",
              "      <td>8/8/2017 1:20</td>\n",
              "      <td>1.00</td>\n",
              "      <td>failed</td>\n",
              "      <td>1</td>\n",
              "      <td>AU</td>\n",
              "      <td>0.00</td>\n",
              "      <td>0.81</td>\n",
              "      <td>2026.10</td>\n",
              "    </tr>\n",
              "    <tr>\n",
              "      <th>3</th>\n",
              "      <td>100011318</td>\n",
              "      <td>My Moon - Animated Short Film</td>\n",
              "      <td>Animation</td>\n",
              "      <td>Film &amp; Video</td>\n",
              "      <td>USD</td>\n",
              "      <td>5/3/2017</td>\n",
              "      <td>50000</td>\n",
              "      <td>4/3/2017 17:11</td>\n",
              "      <td>57577.31</td>\n",
              "      <td>successful</td>\n",
              "      <td>840</td>\n",
              "      <td>US</td>\n",
              "      <td>10120.00</td>\n",
              "      <td>57577.31</td>\n",
              "      <td>50000.00</td>\n",
              "    </tr>\n",
              "    <tr>\n",
              "      <th>4</th>\n",
              "      <td>1000149007</td>\n",
              "      <td>Unschooling To University Book Project</td>\n",
              "      <td>Nonfiction</td>\n",
              "      <td>Publishing</td>\n",
              "      <td>CAD</td>\n",
              "      <td>1/19/2018</td>\n",
              "      <td>3000</td>\n",
              "      <td>11/20/2017 18:15</td>\n",
              "      <td>592.00</td>\n",
              "      <td>live</td>\n",
              "      <td>24</td>\n",
              "      <td>CA</td>\n",
              "      <td>185.65</td>\n",
              "      <td>472.88</td>\n",
              "      <td>2396.36</td>\n",
              "    </tr>\n",
              "  </tbody>\n",
              "</table>\n",
              "</div>"
            ],
            "text/plain": [
              "           ID  ... usd_goal_real\n",
              "0  1000003930  ...      30000.00\n",
              "1  1000057089  ...       6469.73\n",
              "2  1000081649  ...       2026.10\n",
              "3   100011318  ...      50000.00\n",
              "4  1000149007  ...       2396.36\n",
              "\n",
              "[5 rows x 15 columns]"
            ]
          },
          "metadata": {
            "tags": []
          },
          "execution_count": 7
        }
      ]
    },
    {
      "cell_type": "code",
      "metadata": {
        "id": "JHJcA2uk3woN",
        "colab": {
          "base_uri": "https://localhost:8080/",
          "height": 394
        },
        "outputId": "d6bd2912-4453-4576-9b47-4e3e2d2bb0af"
      },
      "source": [
        "kickstarter.tail()"
      ],
      "execution_count": null,
      "outputs": [
        {
          "output_type": "execute_result",
          "data": {
            "text/html": [
              "<div>\n",
              "<style scoped>\n",
              "    .dataframe tbody tr th:only-of-type {\n",
              "        vertical-align: middle;\n",
              "    }\n",
              "\n",
              "    .dataframe tbody tr th {\n",
              "        vertical-align: top;\n",
              "    }\n",
              "\n",
              "    .dataframe thead th {\n",
              "        text-align: right;\n",
              "    }\n",
              "</style>\n",
              "<table border=\"1\" class=\"dataframe\">\n",
              "  <thead>\n",
              "    <tr style=\"text-align: right;\">\n",
              "      <th></th>\n",
              "      <th>ID</th>\n",
              "      <th>name</th>\n",
              "      <th>category</th>\n",
              "      <th>main_category</th>\n",
              "      <th>currency</th>\n",
              "      <th>deadline</th>\n",
              "      <th>goal</th>\n",
              "      <th>launched</th>\n",
              "      <th>pledged</th>\n",
              "      <th>state</th>\n",
              "      <th>backers</th>\n",
              "      <th>country</th>\n",
              "      <th>usd pledged</th>\n",
              "      <th>usd_pledged_real</th>\n",
              "      <th>usd_goal_real</th>\n",
              "    </tr>\n",
              "  </thead>\n",
              "  <tbody>\n",
              "    <tr>\n",
              "      <th>52319</th>\n",
              "      <td>999814706</td>\n",
              "      <td>Pug Life - Inspired by the Pug</td>\n",
              "      <td>Apparel</td>\n",
              "      <td>Fashion</td>\n",
              "      <td>GBP</td>\n",
              "      <td>5/3/2017</td>\n",
              "      <td>5000</td>\n",
              "      <td>4/3/2017 1:07</td>\n",
              "      <td>0.0</td>\n",
              "      <td>failed</td>\n",
              "      <td>0</td>\n",
              "      <td>GB</td>\n",
              "      <td>0.00</td>\n",
              "      <td>0.00</td>\n",
              "      <td>6469.73</td>\n",
              "    </tr>\n",
              "    <tr>\n",
              "      <th>52320</th>\n",
              "      <td>999878813</td>\n",
              "      <td>Ways to Look at the Moon</td>\n",
              "      <td>Shorts</td>\n",
              "      <td>Film &amp; Video</td>\n",
              "      <td>USD</td>\n",
              "      <td>10/13/2017</td>\n",
              "      <td>10000</td>\n",
              "      <td>8/29/2017 6:57</td>\n",
              "      <td>10245.0</td>\n",
              "      <td>successful</td>\n",
              "      <td>123</td>\n",
              "      <td>US</td>\n",
              "      <td>145.00</td>\n",
              "      <td>10245.00</td>\n",
              "      <td>10000.00</td>\n",
              "    </tr>\n",
              "    <tr>\n",
              "      <th>52321</th>\n",
              "      <td>999929142</td>\n",
              "      <td>Ã‰POUVANTAILS : 28mm Figurines de jeux pour KI...</td>\n",
              "      <td>Tabletop Games</td>\n",
              "      <td>Games</td>\n",
              "      <td>EUR</td>\n",
              "      <td>10/31/2017</td>\n",
              "      <td>1000</td>\n",
              "      <td>10/4/2017 11:26</td>\n",
              "      <td>1246.0</td>\n",
              "      <td>successful</td>\n",
              "      <td>35</td>\n",
              "      <td>FR</td>\n",
              "      <td>66.72</td>\n",
              "      <td>1452.47</td>\n",
              "      <td>1165.70</td>\n",
              "    </tr>\n",
              "    <tr>\n",
              "      <th>52322</th>\n",
              "      <td>999963618</td>\n",
              "      <td>Colorado International Activism Film Festival</td>\n",
              "      <td>Narrative Film</td>\n",
              "      <td>Film &amp; Video</td>\n",
              "      <td>USD</td>\n",
              "      <td>4/9/2017</td>\n",
              "      <td>500</td>\n",
              "      <td>2/8/2017 2:28</td>\n",
              "      <td>135.0</td>\n",
              "      <td>failed</td>\n",
              "      <td>6</td>\n",
              "      <td>US</td>\n",
              "      <td>45.00</td>\n",
              "      <td>135.00</td>\n",
              "      <td>500.00</td>\n",
              "    </tr>\n",
              "    <tr>\n",
              "      <th>52323</th>\n",
              "      <td>999975836</td>\n",
              "      <td>Homemade fresh dog food, Cleveland OH</td>\n",
              "      <td>Small Batch</td>\n",
              "      <td>Food</td>\n",
              "      <td>USD</td>\n",
              "      <td>4/19/2017</td>\n",
              "      <td>6500</td>\n",
              "      <td>3/20/2017 22:08</td>\n",
              "      <td>154.0</td>\n",
              "      <td>failed</td>\n",
              "      <td>4</td>\n",
              "      <td>US</td>\n",
              "      <td>0.00</td>\n",
              "      <td>154.00</td>\n",
              "      <td>6500.00</td>\n",
              "    </tr>\n",
              "  </tbody>\n",
              "</table>\n",
              "</div>"
            ],
            "text/plain": [
              "              ID  ... usd_goal_real\n",
              "52319  999814706  ...       6469.73\n",
              "52320  999878813  ...      10000.00\n",
              "52321  999929142  ...       1165.70\n",
              "52322  999963618  ...        500.00\n",
              "52323  999975836  ...       6500.00\n",
              "\n",
              "[5 rows x 15 columns]"
            ]
          },
          "metadata": {
            "tags": []
          },
          "execution_count": 8
        }
      ]
    },
    {
      "cell_type": "code",
      "metadata": {
        "id": "TSP_Urvg78za",
        "colab": {
          "base_uri": "https://localhost:8080/"
        },
        "outputId": "55ee0a98-c32e-4217-9448-2078ce46b3ca"
      },
      "source": [
        "kickstarter.shape"
      ],
      "execution_count": null,
      "outputs": [
        {
          "output_type": "execute_result",
          "data": {
            "text/plain": [
              "(52324, 15)"
            ]
          },
          "metadata": {
            "tags": []
          },
          "execution_count": 9
        }
      ]
    },
    {
      "cell_type": "code",
      "metadata": {
        "id": "Tkr_LGEZyfzM",
        "colab": {
          "base_uri": "https://localhost:8080/"
        },
        "outputId": "095b16bd-a0f3-465a-f287-ddd3345b2da6"
      },
      "source": [
        "kickstarter.columns"
      ],
      "execution_count": null,
      "outputs": [
        {
          "output_type": "execute_result",
          "data": {
            "text/plain": [
              "Index(['ID', 'name', 'category', 'main_category', 'currency', 'deadline',\n",
              "       'goal', 'launched', 'pledged', 'state', 'backers', 'country',\n",
              "       'usd pledged', 'usd_pledged_real', 'usd_goal_real'],\n",
              "      dtype='object')"
            ]
          },
          "metadata": {
            "tags": []
          },
          "execution_count": 10
        }
      ]
    },
    {
      "cell_type": "markdown",
      "metadata": {
        "id": "pmYdV8moy7qO"
      },
      "source": [
        "id - id number of the project\n",
        "\n",
        "name - name of the project\n",
        "\n",
        "category - contains the category and sub-category of the project\n",
        "\n",
        "currency - original currency the project goal was denominated in\n",
        "\n",
        "deadline - date and time of when the project will close for donations\n",
        "\n",
        "goal - funding goal\n",
        "\n",
        "launched - date and time of when the project was launched for funding\n",
        "\n",
        "pledged - amount pledged in the current_currency\n",
        "\n",
        "state - whether a project was successful, failed, canceled,  \n",
        "        suspending or still live\n",
        "\n",
        "backers - number of people who contributed funds to the project\n",
        "\n",
        "country - country the project creator is from\n",
        "\n",
        "usd_pledged - amount pledged in USD\n",
        "\n",
        "\n"
      ]
    },
    {
      "cell_type": "code",
      "metadata": {
        "id": "kotIffuqiZ1f",
        "colab": {
          "base_uri": "https://localhost:8080/",
          "height": 297
        },
        "outputId": "6d604358-3927-415d-e3c7-14fec7284e69"
      },
      "source": [
        "kickstarter.describe()"
      ],
      "execution_count": null,
      "outputs": [
        {
          "output_type": "execute_result",
          "data": {
            "text/html": [
              "<div>\n",
              "<style scoped>\n",
              "    .dataframe tbody tr th:only-of-type {\n",
              "        vertical-align: middle;\n",
              "    }\n",
              "\n",
              "    .dataframe tbody tr th {\n",
              "        vertical-align: top;\n",
              "    }\n",
              "\n",
              "    .dataframe thead th {\n",
              "        text-align: right;\n",
              "    }\n",
              "</style>\n",
              "<table border=\"1\" class=\"dataframe\">\n",
              "  <thead>\n",
              "    <tr style=\"text-align: right;\">\n",
              "      <th></th>\n",
              "      <th>ID</th>\n",
              "      <th>goal</th>\n",
              "      <th>pledged</th>\n",
              "      <th>backers</th>\n",
              "      <th>usd pledged</th>\n",
              "      <th>usd_pledged_real</th>\n",
              "      <th>usd_goal_real</th>\n",
              "    </tr>\n",
              "  </thead>\n",
              "  <tbody>\n",
              "    <tr>\n",
              "      <th>count</th>\n",
              "      <td>5.232400e+04</td>\n",
              "      <td>5.232400e+04</td>\n",
              "      <td>5.232400e+04</td>\n",
              "      <td>52324.000000</td>\n",
              "      <td>5.232400e+04</td>\n",
              "      <td>5.232400e+04</td>\n",
              "      <td>5.232400e+04</td>\n",
              "    </tr>\n",
              "    <tr>\n",
              "      <th>mean</th>\n",
              "      <td>1.073590e+09</td>\n",
              "      <td>5.796805e+04</td>\n",
              "      <td>1.494460e+04</td>\n",
              "      <td>127.179134</td>\n",
              "      <td>2.409275e+03</td>\n",
              "      <td>1.192689e+04</td>\n",
              "      <td>4.195359e+04</td>\n",
              "    </tr>\n",
              "    <tr>\n",
              "      <th>std</th>\n",
              "      <td>6.177103e+08</td>\n",
              "      <td>1.346317e+06</td>\n",
              "      <td>1.153186e+05</td>\n",
              "      <td>709.081140</td>\n",
              "      <td>2.245294e+04</td>\n",
              "      <td>9.317242e+04</td>\n",
              "      <td>1.100352e+06</td>\n",
              "    </tr>\n",
              "    <tr>\n",
              "      <th>min</th>\n",
              "      <td>4.813900e+04</td>\n",
              "      <td>1.000000e+00</td>\n",
              "      <td>0.000000e+00</td>\n",
              "      <td>0.000000</td>\n",
              "      <td>0.000000e+00</td>\n",
              "      <td>0.000000e+00</td>\n",
              "      <td>5.500000e-01</td>\n",
              "    </tr>\n",
              "    <tr>\n",
              "      <th>25%</th>\n",
              "      <td>5.418739e+08</td>\n",
              "      <td>2.000000e+03</td>\n",
              "      <td>4.100000e+01</td>\n",
              "      <td>2.000000</td>\n",
              "      <td>0.000000e+00</td>\n",
              "      <td>3.900000e+01</td>\n",
              "      <td>2.000000e+03</td>\n",
              "    </tr>\n",
              "    <tr>\n",
              "      <th>50%</th>\n",
              "      <td>1.073723e+09</td>\n",
              "      <td>6.500000e+03</td>\n",
              "      <td>6.900000e+02</td>\n",
              "      <td>12.000000</td>\n",
              "      <td>7.692500e+01</td>\n",
              "      <td>6.263300e+02</td>\n",
              "      <td>5.827775e+03</td>\n",
              "    </tr>\n",
              "    <tr>\n",
              "      <th>75%</th>\n",
              "      <td>1.603879e+09</td>\n",
              "      <td>2.000000e+04</td>\n",
              "      <td>5.152247e+03</td>\n",
              "      <td>64.000000</td>\n",
              "      <td>6.582000e+02</td>\n",
              "      <td>4.566135e+03</td>\n",
              "      <td>1.700000e+04</td>\n",
              "    </tr>\n",
              "    <tr>\n",
              "      <th>max</th>\n",
              "      <td>2.147446e+09</td>\n",
              "      <td>1.000000e+08</td>\n",
              "      <td>1.003530e+07</td>\n",
              "      <td>43733.000000</td>\n",
              "      <td>1.627446e+06</td>\n",
              "      <td>7.072757e+06</td>\n",
              "      <td>1.073699e+08</td>\n",
              "    </tr>\n",
              "  </tbody>\n",
              "</table>\n",
              "</div>"
            ],
            "text/plain": [
              "                 ID          goal  ...  usd_pledged_real  usd_goal_real\n",
              "count  5.232400e+04  5.232400e+04  ...      5.232400e+04   5.232400e+04\n",
              "mean   1.073590e+09  5.796805e+04  ...      1.192689e+04   4.195359e+04\n",
              "std    6.177103e+08  1.346317e+06  ...      9.317242e+04   1.100352e+06\n",
              "min    4.813900e+04  1.000000e+00  ...      0.000000e+00   5.500000e-01\n",
              "25%    5.418739e+08  2.000000e+03  ...      3.900000e+01   2.000000e+03\n",
              "50%    1.073723e+09  6.500000e+03  ...      6.263300e+02   5.827775e+03\n",
              "75%    1.603879e+09  2.000000e+04  ...      4.566135e+03   1.700000e+04\n",
              "max    2.147446e+09  1.000000e+08  ...      7.072757e+06   1.073699e+08\n",
              "\n",
              "[8 rows x 7 columns]"
            ]
          },
          "metadata": {
            "tags": []
          },
          "execution_count": 11
        }
      ]
    },
    {
      "cell_type": "code",
      "metadata": {
        "id": "Re5TEjiziZyn",
        "colab": {
          "base_uri": "https://localhost:8080/"
        },
        "outputId": "03b72cdd-d3c5-4941-e9c7-a107282c0bb4"
      },
      "source": [
        "kickstarter.info()"
      ],
      "execution_count": null,
      "outputs": [
        {
          "output_type": "stream",
          "text": [
            "<class 'pandas.core.frame.DataFrame'>\n",
            "RangeIndex: 52324 entries, 0 to 52323\n",
            "Data columns (total 15 columns):\n",
            " #   Column            Non-Null Count  Dtype  \n",
            "---  ------            --------------  -----  \n",
            " 0   ID                52324 non-null  int64  \n",
            " 1   name              52324 non-null  object \n",
            " 2   category          52324 non-null  object \n",
            " 3   main_category     52324 non-null  object \n",
            " 4   currency          52324 non-null  object \n",
            " 5   deadline          52324 non-null  object \n",
            " 6   goal              52324 non-null  int64  \n",
            " 7   launched          52324 non-null  object \n",
            " 8   pledged           52324 non-null  float64\n",
            " 9   state             52324 non-null  object \n",
            " 10  backers           52324 non-null  int64  \n",
            " 11  country           52324 non-null  object \n",
            " 12  usd pledged       52324 non-null  float64\n",
            " 13  usd_pledged_real  52324 non-null  float64\n",
            " 14  usd_goal_real     52324 non-null  float64\n",
            "dtypes: float64(4), int64(3), object(8)\n",
            "memory usage: 6.0+ MB\n"
          ],
          "name": "stdout"
        }
      ]
    },
    {
      "cell_type": "code",
      "metadata": {
        "id": "2YJmVjtjiZuO",
        "colab": {
          "base_uri": "https://localhost:8080/"
        },
        "outputId": "d69ad69d-5cbf-4234-c072-aeb22dbeac33"
      },
      "source": [
        "# Now we check how many unique values are in categories and subcategories to use them later for the clustering.\n",
        "kickstarter['main_category'].unique()"
      ],
      "execution_count": null,
      "outputs": [
        {
          "output_type": "execute_result",
          "data": {
            "text/plain": [
              "array(['Film & Video', 'Games', 'Fashion', 'Publishing', 'Photography',\n",
              "       'Technology', 'Art', 'Music', 'Journalism', 'Design', 'Food',\n",
              "       'Comics', 'Crafts', 'Theater', 'Dance'], dtype=object)"
            ]
          },
          "metadata": {
            "tags": []
          },
          "execution_count": 13
        }
      ]
    },
    {
      "cell_type": "code",
      "metadata": {
        "id": "8bLujUw2iZp4",
        "colab": {
          "base_uri": "https://localhost:8080/"
        },
        "outputId": "e7249702-ecd3-4fb1-fa44-69f3b5cb3573"
      },
      "source": [
        "#Describe the unive values for different statuses of projects\n",
        "kickstarter['state'].unique()"
      ],
      "execution_count": null,
      "outputs": [
        {
          "output_type": "execute_result",
          "data": {
            "text/plain": [
              "array(['failed', 'successful', 'live', 'canceled', 'suspended'],\n",
              "      dtype=object)"
            ]
          },
          "metadata": {
            "tags": []
          },
          "execution_count": 14
        }
      ]
    },
    {
      "cell_type": "code",
      "metadata": {
        "id": "iiDyYC9JiZhp",
        "colab": {
          "base_uri": "https://localhost:8080/"
        },
        "outputId": "07757ba9-6506-4932-f140-d15817291647"
      },
      "source": [
        "kickstarter['state'].value_counts(normalize = True)"
      ],
      "execution_count": null,
      "outputs": [
        {
          "output_type": "execute_result",
          "data": {
            "text/plain": [
              "failed        0.476970\n",
              "successful    0.352840\n",
              "canceled      0.110236\n",
              "live          0.053455\n",
              "suspended     0.006498\n",
              "Name: state, dtype: float64"
            ]
          },
          "metadata": {
            "tags": []
          },
          "execution_count": 15
        }
      ]
    },
    {
      "cell_type": "code",
      "metadata": {
        "id": "HKhc5iei8n6_",
        "colab": {
          "base_uri": "https://localhost:8080/"
        },
        "outputId": "a98c63df-a4cb-44fd-a7a3-b4fa258f6c33"
      },
      "source": [
        "kickstarter['state'].value_counts()"
      ],
      "execution_count": null,
      "outputs": [
        {
          "output_type": "execute_result",
          "data": {
            "text/plain": [
              "failed        24957\n",
              "successful    18462\n",
              "canceled       5768\n",
              "live           2797\n",
              "suspended       340\n",
              "Name: state, dtype: int64"
            ]
          },
          "metadata": {
            "tags": []
          },
          "execution_count": 16
        }
      ]
    },
    {
      "cell_type": "code",
      "metadata": {
        "id": "FXufM5NeiZSQ",
        "colab": {
          "base_uri": "https://localhost:8080/"
        },
        "outputId": "feac764c-ef5e-4744-acbe-6c3ade886f79"
      },
      "source": [
        "# Remove all the rows where the state is undefined - we can't use them for the further predictions.\n",
        "kickstarter = kickstarter[kickstarter.state != 'undefined']\n",
        "kickstarter.shape"
      ],
      "execution_count": null,
      "outputs": [
        {
          "output_type": "execute_result",
          "data": {
            "text/plain": [
              "(52324, 15)"
            ]
          },
          "metadata": {
            "tags": []
          },
          "execution_count": 17
        }
      ]
    },
    {
      "cell_type": "code",
      "metadata": {
        "id": "VhjrYH1_HAMu",
        "colab": {
          "base_uri": "https://localhost:8080/"
        },
        "outputId": "dc0148a0-6506-4c13-b1a2-6796ad103f77"
      },
      "source": [
        "# A significant number of projects are still ongoing, as the numbers for these projects cannot be used for predictions.\n",
        "kickstarter = kickstarter[kickstarter.state != 'live']\n",
        "kickstarter.shape"
      ],
      "execution_count": null,
      "outputs": [
        {
          "output_type": "execute_result",
          "data": {
            "text/plain": [
              "(49527, 15)"
            ]
          },
          "metadata": {
            "tags": []
          },
          "execution_count": 18
        }
      ]
    },
    {
      "cell_type": "markdown",
      "metadata": {
        "id": "DJC0WLgiHQ5y"
      },
      "source": [
        "Now we will change the categorical values to some numbers\n",
        "\n",
        "we change the following to funded (value of 1):\n",
        "\n",
        "-Succesful\n",
        "\n",
        "we change the following to unsuccesfull (value of 0)\n",
        "\n",
        "-Failed\n",
        "\n",
        "-Canceled\n",
        "\n",
        "-Suspended"
      ]
    },
    {
      "cell_type": "code",
      "metadata": {
        "id": "hBT6x_HJHAH6",
        "colab": {
          "base_uri": "https://localhost:8080/",
          "height": 564
        },
        "outputId": "e6704373-d8b6-411c-cac0-20cd7deafed7"
      },
      "source": [
        "categorical_nums = {\"state\":{\"failed\": 0, \"canceled\": 0, \"suspended\" :0, \"successful\" : 1, \"live\" : 1}}\n",
        "kickstarter[\"orignal_state\"] = kickstarter[\"state\"]\n",
        "kickstarter.replace(categorical_nums, inplace=True)\n",
        "kickstarter.head()"
      ],
      "execution_count": null,
      "outputs": [
        {
          "output_type": "execute_result",
          "data": {
            "text/html": [
              "<div>\n",
              "<style scoped>\n",
              "    .dataframe tbody tr th:only-of-type {\n",
              "        vertical-align: middle;\n",
              "    }\n",
              "\n",
              "    .dataframe tbody tr th {\n",
              "        vertical-align: top;\n",
              "    }\n",
              "\n",
              "    .dataframe thead th {\n",
              "        text-align: right;\n",
              "    }\n",
              "</style>\n",
              "<table border=\"1\" class=\"dataframe\">\n",
              "  <thead>\n",
              "    <tr style=\"text-align: right;\">\n",
              "      <th></th>\n",
              "      <th>ID</th>\n",
              "      <th>name</th>\n",
              "      <th>category</th>\n",
              "      <th>main_category</th>\n",
              "      <th>currency</th>\n",
              "      <th>deadline</th>\n",
              "      <th>goal</th>\n",
              "      <th>launched</th>\n",
              "      <th>pledged</th>\n",
              "      <th>state</th>\n",
              "      <th>backers</th>\n",
              "      <th>country</th>\n",
              "      <th>usd pledged</th>\n",
              "      <th>usd_pledged_real</th>\n",
              "      <th>usd_goal_real</th>\n",
              "      <th>orignal_state</th>\n",
              "    </tr>\n",
              "  </thead>\n",
              "  <tbody>\n",
              "    <tr>\n",
              "      <th>0</th>\n",
              "      <td>1000003930</td>\n",
              "      <td>Greeting From Earth: ZGAC Arts Capsule For ET</td>\n",
              "      <td>Narrative Film</td>\n",
              "      <td>Film &amp; Video</td>\n",
              "      <td>USD</td>\n",
              "      <td>11/1/2017</td>\n",
              "      <td>30000</td>\n",
              "      <td>9/2/2017 4:43</td>\n",
              "      <td>2421.00</td>\n",
              "      <td>0</td>\n",
              "      <td>15</td>\n",
              "      <td>US</td>\n",
              "      <td>100.00</td>\n",
              "      <td>2421.00</td>\n",
              "      <td>30000.00</td>\n",
              "      <td>failed</td>\n",
              "    </tr>\n",
              "    <tr>\n",
              "      <th>1</th>\n",
              "      <td>1000057089</td>\n",
              "      <td>Tombstone: Old West tabletop game and miniatur...</td>\n",
              "      <td>Tabletop Games</td>\n",
              "      <td>Games</td>\n",
              "      <td>GBP</td>\n",
              "      <td>5/3/2017</td>\n",
              "      <td>5000</td>\n",
              "      <td>4/5/2017 19:44</td>\n",
              "      <td>94175.00</td>\n",
              "      <td>1</td>\n",
              "      <td>761</td>\n",
              "      <td>GB</td>\n",
              "      <td>57763.78</td>\n",
              "      <td>121857.33</td>\n",
              "      <td>6469.73</td>\n",
              "      <td>successful</td>\n",
              "    </tr>\n",
              "    <tr>\n",
              "      <th>2</th>\n",
              "      <td>1000081649</td>\n",
              "      <td>MikeyJ clothing brand fundraiser</td>\n",
              "      <td>Childrenswear</td>\n",
              "      <td>Fashion</td>\n",
              "      <td>AUD</td>\n",
              "      <td>9/7/2017</td>\n",
              "      <td>2500</td>\n",
              "      <td>8/8/2017 1:20</td>\n",
              "      <td>1.00</td>\n",
              "      <td>0</td>\n",
              "      <td>1</td>\n",
              "      <td>AU</td>\n",
              "      <td>0.00</td>\n",
              "      <td>0.81</td>\n",
              "      <td>2026.10</td>\n",
              "      <td>failed</td>\n",
              "    </tr>\n",
              "    <tr>\n",
              "      <th>3</th>\n",
              "      <td>100011318</td>\n",
              "      <td>My Moon - Animated Short Film</td>\n",
              "      <td>Animation</td>\n",
              "      <td>Film &amp; Video</td>\n",
              "      <td>USD</td>\n",
              "      <td>5/3/2017</td>\n",
              "      <td>50000</td>\n",
              "      <td>4/3/2017 17:11</td>\n",
              "      <td>57577.31</td>\n",
              "      <td>1</td>\n",
              "      <td>840</td>\n",
              "      <td>US</td>\n",
              "      <td>10120.00</td>\n",
              "      <td>57577.31</td>\n",
              "      <td>50000.00</td>\n",
              "      <td>successful</td>\n",
              "    </tr>\n",
              "    <tr>\n",
              "      <th>5</th>\n",
              "      <td>1000170964</td>\n",
              "      <td>Penny Bingo Playing Card Game fun for the whol...</td>\n",
              "      <td>Tabletop Games</td>\n",
              "      <td>Games</td>\n",
              "      <td>USD</td>\n",
              "      <td>3/27/2017</td>\n",
              "      <td>1500</td>\n",
              "      <td>3/2/2017 4:01</td>\n",
              "      <td>856.00</td>\n",
              "      <td>0</td>\n",
              "      <td>25</td>\n",
              "      <td>US</td>\n",
              "      <td>324.00</td>\n",
              "      <td>856.00</td>\n",
              "      <td>1500.00</td>\n",
              "      <td>failed</td>\n",
              "    </tr>\n",
              "  </tbody>\n",
              "</table>\n",
              "</div>"
            ],
            "text/plain": [
              "           ID  ... orignal_state\n",
              "0  1000003930  ...        failed\n",
              "1  1000057089  ...    successful\n",
              "2  1000081649  ...        failed\n",
              "3   100011318  ...    successful\n",
              "5  1000170964  ...        failed\n",
              "\n",
              "[5 rows x 16 columns]"
            ]
          },
          "metadata": {
            "tags": []
          },
          "execution_count": 19
        }
      ]
    },
    {
      "cell_type": "code",
      "metadata": {
        "id": "cv2M3fWMHAES",
        "colab": {
          "base_uri": "https://localhost:8080/"
        },
        "outputId": "755dbae1-5778-4788-d07d-339559ee0a47"
      },
      "source": [
        "kickstarter['category'].unique()"
      ],
      "execution_count": null,
      "outputs": [
        {
          "output_type": "execute_result",
          "data": {
            "text/plain": [
              "array(['Narrative Film', 'Tabletop Games', 'Childrenswear', 'Animation',\n",
              "       'People', 'Software', 'Shorts', 'Gadgets', 'Art', 'Comedy',\n",
              "       'Publishing', 'Latin', 'Music', 'Hardware', 'Games', 'Audio',\n",
              "       'Apparel', 'Design', 'Performance Art', \"Children's Books\",\n",
              "       'Vegan', 'Public Art', 'Photography', 'Product Design', 'Rock',\n",
              "       'Fiction', 'Print', 'Thrillers', 'Video Games', 'Metal',\n",
              "       'Wearables', 'Apps', 'Illustration', 'Documentary', 'Nonfiction',\n",
              "       'Comic Books', 'Knitting', 'Small Batch', 'Fashion', 'Technology',\n",
              "       'Young Adult', 'Jewelry', 'Horror', 'Comics', 'Science Fiction',\n",
              "       'DIY Electronics', 'Crafts', 'Spaces', 'Playing Cards',\n",
              "       'Festivals', 'Film & Video', 'Web', 'Anthologies', 'Hip-Hop',\n",
              "       'Country & Folk', 'Mobile Games', 'Art Books', 'Live Games',\n",
              "       'Webcomics', 'Zines', 'Accessories', 'Blues', 'Puzzles',\n",
              "       'Workshops', 'Painting', 'Drinks', 'Photobooks', 'Jazz', 'Drama',\n",
              "       'Sound', 'Fabrication Tools', 'Music Videos', 'Graphic Design',\n",
              "       'Theater', 'Food', 'Events', 'Graphic Novels', 'Electronic Music',\n",
              "       'Fine Art', 'Poetry', 'Conceptual Art', 'Action',\n",
              "       'Gaming Hardware', 'Plays', 'Classical Music', \"Farmer's Markets\",\n",
              "       'Journalism', 'Architecture', 'Digital Art', 'Footwear',\n",
              "       'Sculpture', 'Faith', 'Calendars', 'Pottery', 'Weaving', 'DIY',\n",
              "       'Nature', 'Food Trucks', 'Camera Equipment', 'World Music',\n",
              "       'Video Art', 'Community Gardens', 'Indie Rock', 'Glass',\n",
              "       'Pet Fashion', 'Robots', 'R&B', 'Crochet', 'Fantasy',\n",
              "       'Mixed Media', 'Restaurants', 'Pop', 'Television', 'Video',\n",
              "       '3D Printing', 'Civic Design', 'Periodicals', 'Interactive Design',\n",
              "       'Woodworking', 'Musical', 'Farms', 'Performances', 'Embroidery',\n",
              "       'Dance', 'Literary Journals', 'Cookbooks', 'Space Exploration',\n",
              "       'Radio & Podcasts', 'Places', 'Academic', 'Ready-to-wear',\n",
              "       'Webseries', 'Printing', 'Family', 'Flight', 'Experimental',\n",
              "       'Kids', 'Photo', 'Textiles', 'Ceramics', 'Couture', 'Candles',\n",
              "       'Animals', 'Installations', 'Literary Spaces', 'Movie Theaters',\n",
              "       'Stationery', 'Punk', 'Letterpress', 'Bacon', 'Quilts',\n",
              "       'Residencies', 'Immersive', 'Typography', 'Romance',\n",
              "       'Translations', 'Makerspaces', 'Chiptune', 'Taxidermy'],\n",
              "      dtype=object)"
            ]
          },
          "metadata": {
            "tags": []
          },
          "execution_count": 20
        }
      ]
    },
    {
      "cell_type": "code",
      "metadata": {
        "id": "cVMFRTWtG_7R",
        "colab": {
          "base_uri": "https://localhost:8080/"
        },
        "outputId": "b2731b37-fd02-4734-d00f-7d8689dd457a"
      },
      "source": [
        "kickstarter['currency'].unique()"
      ],
      "execution_count": null,
      "outputs": [
        {
          "output_type": "execute_result",
          "data": {
            "text/plain": [
              "array(['USD', 'GBP', 'AUD', 'EUR', 'MXN', 'CAD', 'SEK', 'DKK', 'HKD',\n",
              "       'NOK', 'SGD', 'CHF', 'NZD', 'JPY'], dtype=object)"
            ]
          },
          "metadata": {
            "tags": []
          },
          "execution_count": 21
        }
      ]
    },
    {
      "cell_type": "code",
      "metadata": {
        "id": "hiILwNCBG_3r",
        "colab": {
          "base_uri": "https://localhost:8080/",
          "height": 297
        },
        "outputId": "7919f0aa-6a82-45f2-ef97-a6beb7ce9a44"
      },
      "source": [
        "kickstarter.describe()"
      ],
      "execution_count": null,
      "outputs": [
        {
          "output_type": "execute_result",
          "data": {
            "text/html": [
              "<div>\n",
              "<style scoped>\n",
              "    .dataframe tbody tr th:only-of-type {\n",
              "        vertical-align: middle;\n",
              "    }\n",
              "\n",
              "    .dataframe tbody tr th {\n",
              "        vertical-align: top;\n",
              "    }\n",
              "\n",
              "    .dataframe thead th {\n",
              "        text-align: right;\n",
              "    }\n",
              "</style>\n",
              "<table border=\"1\" class=\"dataframe\">\n",
              "  <thead>\n",
              "    <tr style=\"text-align: right;\">\n",
              "      <th></th>\n",
              "      <th>ID</th>\n",
              "      <th>goal</th>\n",
              "      <th>pledged</th>\n",
              "      <th>state</th>\n",
              "      <th>backers</th>\n",
              "      <th>usd pledged</th>\n",
              "      <th>usd_pledged_real</th>\n",
              "      <th>usd_goal_real</th>\n",
              "    </tr>\n",
              "  </thead>\n",
              "  <tbody>\n",
              "    <tr>\n",
              "      <th>count</th>\n",
              "      <td>4.952700e+04</td>\n",
              "      <td>4.952700e+04</td>\n",
              "      <td>4.952700e+04</td>\n",
              "      <td>49527.000000</td>\n",
              "      <td>49527.000000</td>\n",
              "      <td>4.952700e+04</td>\n",
              "      <td>4.952700e+04</td>\n",
              "      <td>4.952700e+04</td>\n",
              "    </tr>\n",
              "    <tr>\n",
              "      <th>mean</th>\n",
              "      <td>1.072964e+09</td>\n",
              "      <td>5.690422e+04</td>\n",
              "      <td>1.527528e+04</td>\n",
              "      <td>0.372766</td>\n",
              "      <td>130.513962</td>\n",
              "      <td>2.474611e+03</td>\n",
              "      <td>1.226890e+04</td>\n",
              "      <td>4.078940e+04</td>\n",
              "    </tr>\n",
              "    <tr>\n",
              "      <th>std</th>\n",
              "      <td>6.180171e+08</td>\n",
              "      <td>1.309232e+06</td>\n",
              "      <td>1.178752e+05</td>\n",
              "      <td>0.483546</td>\n",
              "      <td>722.990769</td>\n",
              "      <td>2.301927e+04</td>\n",
              "      <td>9.546398e+04</td>\n",
              "      <td>1.039428e+06</td>\n",
              "    </tr>\n",
              "    <tr>\n",
              "      <th>min</th>\n",
              "      <td>4.813900e+04</td>\n",
              "      <td>1.000000e+00</td>\n",
              "      <td>0.000000e+00</td>\n",
              "      <td>0.000000</td>\n",
              "      <td>0.000000</td>\n",
              "      <td>0.000000e+00</td>\n",
              "      <td>0.000000e+00</td>\n",
              "      <td>5.500000e-01</td>\n",
              "    </tr>\n",
              "    <tr>\n",
              "      <th>25%</th>\n",
              "      <td>5.400481e+08</td>\n",
              "      <td>2.000000e+03</td>\n",
              "      <td>4.600000e+01</td>\n",
              "      <td>0.000000</td>\n",
              "      <td>2.000000</td>\n",
              "      <td>0.000000e+00</td>\n",
              "      <td>4.153500e+01</td>\n",
              "      <td>1.971870e+03</td>\n",
              "    </tr>\n",
              "    <tr>\n",
              "      <th>50%</th>\n",
              "      <td>1.073558e+09</td>\n",
              "      <td>6.200000e+03</td>\n",
              "      <td>7.310000e+02</td>\n",
              "      <td>0.000000</td>\n",
              "      <td>13.000000</td>\n",
              "      <td>8.000000e+01</td>\n",
              "      <td>6.640000e+02</td>\n",
              "      <td>5.707500e+03</td>\n",
              "    </tr>\n",
              "    <tr>\n",
              "      <th>75%</th>\n",
              "      <td>1.602882e+09</td>\n",
              "      <td>2.000000e+04</td>\n",
              "      <td>5.320500e+03</td>\n",
              "      <td>1.000000</td>\n",
              "      <td>67.000000</td>\n",
              "      <td>6.800000e+02</td>\n",
              "      <td>4.834505e+03</td>\n",
              "      <td>1.700000e+04</td>\n",
              "    </tr>\n",
              "    <tr>\n",
              "      <th>max</th>\n",
              "      <td>2.147446e+09</td>\n",
              "      <td>1.000000e+08</td>\n",
              "      <td>1.003530e+07</td>\n",
              "      <td>1.000000</td>\n",
              "      <td>43733.000000</td>\n",
              "      <td>1.627446e+06</td>\n",
              "      <td>7.072757e+06</td>\n",
              "      <td>1.073699e+08</td>\n",
              "    </tr>\n",
              "  </tbody>\n",
              "</table>\n",
              "</div>"
            ],
            "text/plain": [
              "                 ID          goal  ...  usd_pledged_real  usd_goal_real\n",
              "count  4.952700e+04  4.952700e+04  ...      4.952700e+04   4.952700e+04\n",
              "mean   1.072964e+09  5.690422e+04  ...      1.226890e+04   4.078940e+04\n",
              "std    6.180171e+08  1.309232e+06  ...      9.546398e+04   1.039428e+06\n",
              "min    4.813900e+04  1.000000e+00  ...      0.000000e+00   5.500000e-01\n",
              "25%    5.400481e+08  2.000000e+03  ...      4.153500e+01   1.971870e+03\n",
              "50%    1.073558e+09  6.200000e+03  ...      6.640000e+02   5.707500e+03\n",
              "75%    1.602882e+09  2.000000e+04  ...      4.834505e+03   1.700000e+04\n",
              "max    2.147446e+09  1.000000e+08  ...      7.072757e+06   1.073699e+08\n",
              "\n",
              "[8 rows x 8 columns]"
            ]
          },
          "metadata": {
            "tags": []
          },
          "execution_count": 22
        }
      ]
    },
    {
      "cell_type": "code",
      "metadata": {
        "id": "Qpx5FvOSNDzf",
        "colab": {
          "base_uri": "https://localhost:8080/",
          "height": 360
        },
        "outputId": "7262c5a9-b2ff-4c50-c74f-285a0962a4d7"
      },
      "source": [
        "sns.heatmap(kickstarter.isnull(),yticklabels=False,cbar=False,cmap='viridis')"
      ],
      "execution_count": null,
      "outputs": [
        {
          "output_type": "execute_result",
          "data": {
            "text/plain": [
              "<matplotlib.axes._subplots.AxesSubplot at 0x7f6844d95ad0>"
            ]
          },
          "metadata": {
            "tags": []
          },
          "execution_count": 23
        },
        {
          "output_type": "display_data",
          "data": {
            "image/png": "[encoded data removed]",
            "text/plain": [
              "<Figure size 432x288 with 1 Axes>"
            ]
          },
          "metadata": {
            "tags": [],
            "needs_background": "light"
          }
        }
      ]
    },
    {
      "cell_type": "code",
      "metadata": {
        "id": "VNg4HMr23lNq",
        "colab": {
          "base_uri": "https://localhost:8080/"
        },
        "outputId": "6f527cb3-1c89-4fa5-9fba-13e31a7800e9"
      },
      "source": [
        "kickstarter.isnull().sum()"
      ],
      "execution_count": null,
      "outputs": [
        {
          "output_type": "execute_result",
          "data": {
            "text/plain": [
              "ID                  0\n",
              "name                0\n",
              "category            0\n",
              "main_category       0\n",
              "currency            0\n",
              "deadline            0\n",
              "goal                0\n",
              "launched            0\n",
              "pledged             0\n",
              "state               0\n",
              "backers             0\n",
              "country             0\n",
              "usd pledged         0\n",
              "usd_pledged_real    0\n",
              "usd_goal_real       0\n",
              "orignal_state       0\n",
              "dtype: int64"
            ]
          },
          "metadata": {
            "tags": []
          },
          "execution_count": 24
        }
      ]
    },
    {
      "cell_type": "code",
      "metadata": {
        "id": "-7mT2LaFQ2tF"
      },
      "source": [
        "kickstarter.drop(['ID','goal','category','usd pledged'], axis='columns', inplace=True)"
      ],
      "execution_count": null,
      "outputs": []
    },
    {
      "cell_type": "code",
      "metadata": {
        "id": "Wxk27VkRQ2ix",
        "colab": {
          "base_uri": "https://localhost:8080/",
          "height": 289
        },
        "outputId": "0bade500-305e-4138-9689-ba898b8375ef"
      },
      "source": [
        "kickstarter.head()"
      ],
      "execution_count": null,
      "outputs": [
        {
          "output_type": "execute_result",
          "data": {
            "text/html": [
              "<div>\n",
              "<style scoped>\n",
              "    .dataframe tbody tr th:only-of-type {\n",
              "        vertical-align: middle;\n",
              "    }\n",
              "\n",
              "    .dataframe tbody tr th {\n",
              "        vertical-align: top;\n",
              "    }\n",
              "\n",
              "    .dataframe thead th {\n",
              "        text-align: right;\n",
              "    }\n",
              "</style>\n",
              "<table border=\"1\" class=\"dataframe\">\n",
              "  <thead>\n",
              "    <tr style=\"text-align: right;\">\n",
              "      <th></th>\n",
              "      <th>name</th>\n",
              "      <th>main_category</th>\n",
              "      <th>currency</th>\n",
              "      <th>deadline</th>\n",
              "      <th>launched</th>\n",
              "      <th>pledged</th>\n",
              "      <th>state</th>\n",
              "      <th>backers</th>\n",
              "      <th>country</th>\n",
              "      <th>usd_pledged_real</th>\n",
              "      <th>usd_goal_real</th>\n",
              "      <th>orignal_state</th>\n",
              "    </tr>\n",
              "  </thead>\n",
              "  <tbody>\n",
              "    <tr>\n",
              "      <th>0</th>\n",
              "      <td>Greeting From Earth: ZGAC Arts Capsule For ET</td>\n",
              "      <td>Film &amp; Video</td>\n",
              "      <td>USD</td>\n",
              "      <td>11/1/2017</td>\n",
              "      <td>9/2/2017 4:43</td>\n",
              "      <td>2421.00</td>\n",
              "      <td>0</td>\n",
              "      <td>15</td>\n",
              "      <td>US</td>\n",
              "      <td>2421.00</td>\n",
              "      <td>30000.00</td>\n",
              "      <td>failed</td>\n",
              "    </tr>\n",
              "    <tr>\n",
              "      <th>1</th>\n",
              "      <td>Tombstone: Old West tabletop game and miniatur...</td>\n",
              "      <td>Games</td>\n",
              "      <td>GBP</td>\n",
              "      <td>5/3/2017</td>\n",
              "      <td>4/5/2017 19:44</td>\n",
              "      <td>94175.00</td>\n",
              "      <td>1</td>\n",
              "      <td>761</td>\n",
              "      <td>GB</td>\n",
              "      <td>121857.33</td>\n",
              "      <td>6469.73</td>\n",
              "      <td>successful</td>\n",
              "    </tr>\n",
              "    <tr>\n",
              "      <th>2</th>\n",
              "      <td>MikeyJ clothing brand fundraiser</td>\n",
              "      <td>Fashion</td>\n",
              "      <td>AUD</td>\n",
              "      <td>9/7/2017</td>\n",
              "      <td>8/8/2017 1:20</td>\n",
              "      <td>1.00</td>\n",
              "      <td>0</td>\n",
              "      <td>1</td>\n",
              "      <td>AU</td>\n",
              "      <td>0.81</td>\n",
              "      <td>2026.10</td>\n",
              "      <td>failed</td>\n",
              "    </tr>\n",
              "    <tr>\n",
              "      <th>3</th>\n",
              "      <td>My Moon - Animated Short Film</td>\n",
              "      <td>Film &amp; Video</td>\n",
              "      <td>USD</td>\n",
              "      <td>5/3/2017</td>\n",
              "      <td>4/3/2017 17:11</td>\n",
              "      <td>57577.31</td>\n",
              "      <td>1</td>\n",
              "      <td>840</td>\n",
              "      <td>US</td>\n",
              "      <td>57577.31</td>\n",
              "      <td>50000.00</td>\n",
              "      <td>successful</td>\n",
              "    </tr>\n",
              "    <tr>\n",
              "      <th>5</th>\n",
              "      <td>Penny Bingo Playing Card Game fun for the whol...</td>\n",
              "      <td>Games</td>\n",
              "      <td>USD</td>\n",
              "      <td>3/27/2017</td>\n",
              "      <td>3/2/2017 4:01</td>\n",
              "      <td>856.00</td>\n",
              "      <td>0</td>\n",
              "      <td>25</td>\n",
              "      <td>US</td>\n",
              "      <td>856.00</td>\n",
              "      <td>1500.00</td>\n",
              "      <td>failed</td>\n",
              "    </tr>\n",
              "  </tbody>\n",
              "</table>\n",
              "</div>"
            ],
            "text/plain": [
              "                                                name  ... orignal_state\n",
              "0      Greeting From Earth: ZGAC Arts Capsule For ET  ...        failed\n",
              "1  Tombstone: Old West tabletop game and miniatur...  ...    successful\n",
              "2                   MikeyJ clothing brand fundraiser  ...        failed\n",
              "3                      My Moon - Animated Short Film  ...    successful\n",
              "5  Penny Bingo Playing Card Game fun for the whol...  ...        failed\n",
              "\n",
              "[5 rows x 12 columns]"
            ]
          },
          "metadata": {
            "tags": []
          },
          "execution_count": 26
        }
      ]
    },
    {
      "cell_type": "code",
      "metadata": {
        "id": "uJPJGfvwQ2bo"
      },
      "source": [
        "kickstarter['deadline2'] = pd.to_datetime(kickstarter['deadline'])\n",
        "kickstarter['launched2'] = pd.to_datetime(kickstarter['launched'])"
      ],
      "execution_count": null,
      "outputs": []
    },
    {
      "cell_type": "code",
      "metadata": {
        "id": "ZV1ilVO1Q2Tf"
      },
      "source": [
        "#created new column 'days' including the counts between launch dates and projects deadlines\n",
        "#np.busday_count is used to counts the number of valid days between startday and enday\n",
        "kickstarter['days'] = np.busday_count(pd.to_datetime(kickstarter['launched2']).values.astype('datetime64[D]'), \\\n",
        "            pd.to_datetime(kickstarter['deadline2']).values.astype('datetime64[D]'))"
      ],
      "execution_count": null,
      "outputs": []
    },
    {
      "cell_type": "code",
      "metadata": {
        "id": "ecEOH6_4Q2Ho",
        "colab": {
          "base_uri": "https://localhost:8080/",
          "height": 1000
        },
        "outputId": "598cbf29-b0ba-43b8-9c80-3d96f2faf7cc"
      },
      "source": [
        "kickstarter.head(10)"
      ],
      "execution_count": null,
      "outputs": [
        {
          "output_type": "execute_result",
          "data": {
            "text/html": [
              "<div>\n",
              "<style scoped>\n",
              "    .dataframe tbody tr th:only-of-type {\n",
              "        vertical-align: middle;\n",
              "    }\n",
              "\n",
              "    .dataframe tbody tr th {\n",
              "        vertical-align: top;\n",
              "    }\n",
              "\n",
              "    .dataframe thead th {\n",
              "        text-align: right;\n",
              "    }\n",
              "</style>\n",
              "<table border=\"1\" class=\"dataframe\">\n",
              "  <thead>\n",
              "    <tr style=\"text-align: right;\">\n",
              "      <th></th>\n",
              "      <th>name</th>\n",
              "      <th>main_category</th>\n",
              "      <th>currency</th>\n",
              "      <th>deadline</th>\n",
              "      <th>launched</th>\n",
              "      <th>pledged</th>\n",
              "      <th>state</th>\n",
              "      <th>backers</th>\n",
              "      <th>country</th>\n",
              "      <th>usd_pledged_real</th>\n",
              "      <th>usd_goal_real</th>\n",
              "      <th>orignal_state</th>\n",
              "      <th>deadline2</th>\n",
              "      <th>launched2</th>\n",
              "      <th>days</th>\n",
              "    </tr>\n",
              "  </thead>\n",
              "  <tbody>\n",
              "    <tr>\n",
              "      <th>0</th>\n",
              "      <td>Greeting From Earth: ZGAC Arts Capsule For ET</td>\n",
              "      <td>Film &amp; Video</td>\n",
              "      <td>USD</td>\n",
              "      <td>11/1/2017</td>\n",
              "      <td>9/2/2017 4:43</td>\n",
              "      <td>2421.00</td>\n",
              "      <td>0</td>\n",
              "      <td>15</td>\n",
              "      <td>US</td>\n",
              "      <td>2421.00</td>\n",
              "      <td>30000.00</td>\n",
              "      <td>failed</td>\n",
              "      <td>2017-11-01</td>\n",
              "      <td>2017-09-02 04:43:00</td>\n",
              "      <td>42</td>\n",
              "    </tr>\n",
              "    <tr>\n",
              "      <th>1</th>\n",
              "      <td>Tombstone: Old West tabletop game and miniatur...</td>\n",
              "      <td>Games</td>\n",
              "      <td>GBP</td>\n",
              "      <td>5/3/2017</td>\n",
              "      <td>4/5/2017 19:44</td>\n",
              "      <td>94175.00</td>\n",
              "      <td>1</td>\n",
              "      <td>761</td>\n",
              "      <td>GB</td>\n",
              "      <td>121857.33</td>\n",
              "      <td>6469.73</td>\n",
              "      <td>successful</td>\n",
              "      <td>2017-05-03</td>\n",
              "      <td>2017-04-05 19:44:00</td>\n",
              "      <td>20</td>\n",
              "    </tr>\n",
              "    <tr>\n",
              "      <th>2</th>\n",
              "      <td>MikeyJ clothing brand fundraiser</td>\n",
              "      <td>Fashion</td>\n",
              "      <td>AUD</td>\n",
              "      <td>9/7/2017</td>\n",
              "      <td>8/8/2017 1:20</td>\n",
              "      <td>1.00</td>\n",
              "      <td>0</td>\n",
              "      <td>1</td>\n",
              "      <td>AU</td>\n",
              "      <td>0.81</td>\n",
              "      <td>2026.10</td>\n",
              "      <td>failed</td>\n",
              "      <td>2017-09-07</td>\n",
              "      <td>2017-08-08 01:20:00</td>\n",
              "      <td>22</td>\n",
              "    </tr>\n",
              "    <tr>\n",
              "      <th>3</th>\n",
              "      <td>My Moon - Animated Short Film</td>\n",
              "      <td>Film &amp; Video</td>\n",
              "      <td>USD</td>\n",
              "      <td>5/3/2017</td>\n",
              "      <td>4/3/2017 17:11</td>\n",
              "      <td>57577.31</td>\n",
              "      <td>1</td>\n",
              "      <td>840</td>\n",
              "      <td>US</td>\n",
              "      <td>57577.31</td>\n",
              "      <td>50000.00</td>\n",
              "      <td>successful</td>\n",
              "      <td>2017-05-03</td>\n",
              "      <td>2017-04-03 17:11:00</td>\n",
              "      <td>22</td>\n",
              "    </tr>\n",
              "    <tr>\n",
              "      <th>5</th>\n",
              "      <td>Penny Bingo Playing Card Game fun for the whol...</td>\n",
              "      <td>Games</td>\n",
              "      <td>USD</td>\n",
              "      <td>3/27/2017</td>\n",
              "      <td>3/2/2017 4:01</td>\n",
              "      <td>856.00</td>\n",
              "      <td>0</td>\n",
              "      <td>25</td>\n",
              "      <td>US</td>\n",
              "      <td>856.00</td>\n",
              "      <td>1500.00</td>\n",
              "      <td>failed</td>\n",
              "      <td>2017-03-27</td>\n",
              "      <td>2017-03-02 04:01:00</td>\n",
              "      <td>17</td>\n",
              "    </tr>\n",
              "    <tr>\n",
              "      <th>6</th>\n",
              "      <td>H2O The Underwater Portraits</td>\n",
              "      <td>Photography</td>\n",
              "      <td>USD</td>\n",
              "      <td>10/30/2017</td>\n",
              "      <td>9/25/2017 17:17</td>\n",
              "      <td>6.00</td>\n",
              "      <td>0</td>\n",
              "      <td>2</td>\n",
              "      <td>US</td>\n",
              "      <td>6.00</td>\n",
              "      <td>9500.00</td>\n",
              "      <td>failed</td>\n",
              "      <td>2017-10-30</td>\n",
              "      <td>2017-09-25 17:17:00</td>\n",
              "      <td>25</td>\n",
              "    </tr>\n",
              "    <tr>\n",
              "      <th>7</th>\n",
              "      <td>Shreddit - Privacy on Reddit</td>\n",
              "      <td>Technology</td>\n",
              "      <td>GBP</td>\n",
              "      <td>7/2/2017</td>\n",
              "      <td>6/2/2017 12:20</td>\n",
              "      <td>0.00</td>\n",
              "      <td>0</td>\n",
              "      <td>0</td>\n",
              "      <td>GB</td>\n",
              "      <td>0.00</td>\n",
              "      <td>2579.35</td>\n",
              "      <td>failed</td>\n",
              "      <td>2017-07-02</td>\n",
              "      <td>2017-06-02 12:20:00</td>\n",
              "      <td>21</td>\n",
              "    </tr>\n",
              "    <tr>\n",
              "      <th>8</th>\n",
              "      <td>The Silence of Hollowind - Urban Fantasy RPG</td>\n",
              "      <td>Games</td>\n",
              "      <td>EUR</td>\n",
              "      <td>11/23/2017</td>\n",
              "      <td>10/24/2017 16:58</td>\n",
              "      <td>11238.00</td>\n",
              "      <td>1</td>\n",
              "      <td>346</td>\n",
              "      <td>IT</td>\n",
              "      <td>13347.43</td>\n",
              "      <td>5938.52</td>\n",
              "      <td>successful</td>\n",
              "      <td>2017-11-23</td>\n",
              "      <td>2017-10-24 16:58:00</td>\n",
              "      <td>22</td>\n",
              "    </tr>\n",
              "    <tr>\n",
              "      <th>9</th>\n",
              "      <td>Bad Example (A Southern Trailer Park Fairy Tal...</td>\n",
              "      <td>Film &amp; Video</td>\n",
              "      <td>USD</td>\n",
              "      <td>5/8/2017</td>\n",
              "      <td>4/3/2017 23:25</td>\n",
              "      <td>22.00</td>\n",
              "      <td>0</td>\n",
              "      <td>2</td>\n",
              "      <td>US</td>\n",
              "      <td>22.00</td>\n",
              "      <td>1800.00</td>\n",
              "      <td>failed</td>\n",
              "      <td>2017-05-08</td>\n",
              "      <td>2017-04-03 23:25:00</td>\n",
              "      <td>25</td>\n",
              "    </tr>\n",
              "    <tr>\n",
              "      <th>10</th>\n",
              "      <td>iRNinja - Control your TV with a simple press ...</td>\n",
              "      <td>Technology</td>\n",
              "      <td>USD</td>\n",
              "      <td>6/14/2017</td>\n",
              "      <td>5/10/2017 16:00</td>\n",
              "      <td>74.00</td>\n",
              "      <td>0</td>\n",
              "      <td>6</td>\n",
              "      <td>US</td>\n",
              "      <td>74.00</td>\n",
              "      <td>500.00</td>\n",
              "      <td>failed</td>\n",
              "      <td>2017-06-14</td>\n",
              "      <td>2017-05-10 16:00:00</td>\n",
              "      <td>25</td>\n",
              "    </tr>\n",
              "  </tbody>\n",
              "</table>\n",
              "</div>"
            ],
            "text/plain": [
              "                                                 name  ... days\n",
              "0       Greeting From Earth: ZGAC Arts Capsule For ET  ...   42\n",
              "1   Tombstone: Old West tabletop game and miniatur...  ...   20\n",
              "2                    MikeyJ clothing brand fundraiser  ...   22\n",
              "3                       My Moon - Animated Short Film  ...   22\n",
              "5   Penny Bingo Playing Card Game fun for the whol...  ...   17\n",
              "6                        H2O The Underwater Portraits  ...   25\n",
              "7                        Shreddit - Privacy on Reddit  ...   21\n",
              "8        The Silence of Hollowind - Urban Fantasy RPG  ...   22\n",
              "9   Bad Example (A Southern Trailer Park Fairy Tal...  ...   25\n",
              "10  iRNinja - Control your TV with a simple press ...  ...   25\n",
              "\n",
              "[10 rows x 15 columns]"
            ]
          },
          "metadata": {
            "tags": []
          },
          "execution_count": 29
        }
      ]
    },
    {
      "cell_type": "markdown",
      "metadata": {
        "id": "F36jP7YXntQh"
      },
      "source": [
        "Exploratory Data Analysis"
      ]
    },
    {
      "cell_type": "markdown",
      "metadata": {
        "id": "b_I0p3OhpZ4g"
      },
      "source": [
        "The distribution of project states"
      ]
    },
    {
      "cell_type": "markdown",
      "metadata": {
        "id": "5yf-6nwIM3h2"
      },
      "source": [
        "Our goal with this exploration is to get an idea of how many projects actually succeed compared to the rest of the project states, which we to some extent, consider unsuccessful. In the graph bellow we can see that most projects fail to reach their goal and many are canecled. A good number of projects are successful though."
      ]
    },
    {
      "cell_type": "code",
      "metadata": {
        "id": "nNUwNufL255g",
        "colab": {
          "base_uri": "https://localhost:8080/",
          "height": 377
        },
        "outputId": "4b9fc4c8-8a51-4ac5-a3b9-96b4bcb19b3b"
      },
      "source": [
        "sns.set(rc={'figure.figsize':(11,6)})\n",
        "sns.barplot(x=kickstarter.orignal_state.value_counts().index, y=kickstarter.orignal_state.value_counts());"
      ],
      "execution_count": null,
      "outputs": [
        {
          "output_type": "display_data",
          "data": {
            "image/png": "[encoded data removed]",
            "text/plain": [
              "<Figure size 792x432 with 1 Axes>"
            ]
          },
          "metadata": {
            "tags": []
          }
        }
      ]
    },
    {
      "cell_type": "markdown",
      "metadata": {
        "id": "y7Xe0P0KroFZ"
      },
      "source": [
        "Number of successful projects in each category of projects"
      ]
    },
    {
      "cell_type": "markdown",
      "metadata": {
        "id": "GrEINm67SIAh"
      },
      "source": [
        "Now we would like to explore the distirbution of successful projects across categories. This will tell us which categories of projects are more likely to succeed in receiving the necessary funding. First, lets visualize it in a simple bar chart."
      ]
    },
    {
      "cell_type": "code",
      "metadata": {
        "id": "zmmRU8RR25uD",
        "colab": {
          "base_uri": "https://localhost:8080/",
          "height": 426
        },
        "outputId": "e4f2b558-1d66-4096-ecae-4fc9c352f4a6"
      },
      "source": [
        "my_temp_dataset = kickstarter[kickstarter.orignal_state == \"successful\"]\n",
        "sns.set(rc={'figure.figsize':(11,6)})\n",
        "ax = sns.barplot(x=my_temp_dataset.main_category.value_counts().index, y=my_temp_dataset.main_category.value_counts())\n",
        "ax.set_xticklabels(ax.get_xticklabels(),rotation=45);"
      ],
      "execution_count": null,
      "outputs": [
        {
          "output_type": "display_data",
          "data": {
            "image/png": "[encoded data removed]",
            "text/plain": [
              "<Figure size 792x432 with 1 Axes>"
            ]
          },
          "metadata": {
            "tags": []
          }
        }
      ]
    },
    {
      "cell_type": "markdown",
      "metadata": {
        "id": "NZ90naQqU4aR"
      },
      "source": [
        "So it seems that there are more projects with the topic of Games, Design and music that are succesful than those in dance, photography and journalism. But this does not really provide a full picture since we left out the failed projects. So lets include those."
      ]
    },
    {
      "cell_type": "code",
      "metadata": {
        "id": "Z0ryBguM8kLY",
        "colab": {
          "base_uri": "https://localhost:8080/",
          "height": 437
        },
        "outputId": "92790c94-5ec2-42ef-e0f5-df03644c2d4c"
      },
      "source": [
        "succesful_projects = pd.concat([kickstarter.main_category.value_counts(), my_temp_dataset.main_category.value_counts()], axis=1)\n",
        "sns.set(rc={'figure.figsize':(11,6)})\n",
        "succesful_projects.columns.values[0] = \"total\"\n",
        "succesful_projects.columns.values[1] = \"succesful\"\n",
        "succesful_projects.sort_values(by='total')\n",
        "\n",
        "succesful_projects.plot(kind='bar', color=['blue', 'lightblue']);"
      ],
      "execution_count": null,
      "outputs": [
        {
          "output_type": "display_data",
          "data": {
            "image/png": "[encoded data removed]",
            "text/plain": [
              "<Figure size 792x432 with 1 Axes>"
            ]
          },
          "metadata": {
            "tags": []
          }
        }
      ]
    },
    {
      "cell_type": "markdown",
      "metadata": {
        "id": "XAuihC0LcfJk"
      },
      "source": [
        "3. How do the backers spread across the categories of projects"
      ]
    },
    {
      "cell_type": "markdown",
      "metadata": {
        "id": "oRJ34FsjfT6F"
      },
      "source": [
        "We could also look at how many backers there are on average for each category. Below we can see that the projects that succeeded (state==1) have a much higher number of backers on average than those that fail (state==0). Some of the categories have way more backers like design, games and technology. It is likely because these projects are expensive to fund and thus require a larger number of backers to be successful."
      ]
    },
    {
      "cell_type": "code",
      "metadata": {
        "id": "tw3pIXIqyBBI",
        "colab": {
          "base_uri": "https://localhost:8080/",
          "height": 440
        },
        "outputId": "7a290f3c-825d-47bc-eaeb-fdf5e687de8b"
      },
      "source": [
        "# And now adding the hue function to see how distribution of succesfull and unsuccesfull projects across categories\n",
        "sns.set(rc={'figure.figsize':(11,6)})\n",
        "ax = sns.barplot(x=\"main_category\", y=\"backers\", hue=\"state\", data=kickstarter);\n",
        "ax.set_xticklabels(ax.get_xticklabels(),rotation=45);"
      ],
      "execution_count": null,
      "outputs": [
        {
          "output_type": "display_data",
          "data": {
            "image/png": "[encoded data removed]",
            "text/plain": [
              "<Figure size 792x432 with 1 Axes>"
            ]
          },
          "metadata": {
            "tags": []
          }
        }
      ]
    },
    {
      "cell_type": "markdown",
      "metadata": {
        "id": "U9EFFWUJxULY"
      },
      "source": [
        "So now that we gained an understanding of how the backers spread across categories, lets just for giggles see how they spread across countries. Maybe this will tell the creators where they need push their idea."
      ]
    },
    {
      "cell_type": "code",
      "metadata": {
        "colab": {
          "base_uri": "https://localhost:8080/",
          "height": 394
        },
        "id": "6ehkd5WyKSVt",
        "outputId": "b5c7d76b-c338-4d57-ab0b-cf975e3016ae"
      },
      "source": [
        "sns.set(rc={'figure.figsize':(11,6)})\n",
        "ax = sns.barplot(x=\"country\", y=\"backers\", data=kickstarter)"
      ],
      "execution_count": null,
      "outputs": [
        {
          "output_type": "display_data",
          "data": {
            "image/png": "[encoded data removed]",
            "text/plain": [
              "<Figure size 792x432 with 1 Axes>"
            ]
          },
          "metadata": {
            "tags": []
          }
        }
      ]
    },
    {
      "cell_type": "markdown",
      "metadata": {
        "id": "eZFdOMHr0WTg"
      },
      "source": [
        "Hmm we seem to have some uncertainty or variation in our data judging by the error bars. But apart from that we can see that countries like Hong Kong and Singapore have projects with a high number of backers. Others like Mexico and Norway have fever backers on average."
      ]
    },
    {
      "cell_type": "markdown",
      "metadata": {
        "id": "VT55clgn4FE1"
      },
      "source": [
        "4. The relationship between funding goals and actual received fundings (in USD)"
      ]
    },
    {
      "cell_type": "markdown",
      "metadata": {
        "id": "5vUCaLF44T4z"
      },
      "source": [
        "We want to explore the funding goal that the projects have and their actual received funding. So we compare their goal to their received funding. In order to get a plot that we are able to interpret, we will only look at the projects with a goal of less than 10000 USD."
      ]
    },
    {
      "cell_type": "code",
      "metadata": {
        "id": "E7xrJZNVxqKp",
        "colab": {
          "base_uri": "https://localhost:8080/",
          "height": 442
        },
        "outputId": "2a4ec49a-db06-4715-9403-e2a685bcf56f"
      },
      "source": [
        "my_cheap_projects = kickstarter[kickstarter.usd_goal_real <= 10000]\n",
        "var = 'usd_goal_real'\n",
        "data = pd.concat([my_cheap_projects['usd_pledged_real'], my_cheap_projects['usd_goal_real']], axis=1)\n",
        "my_plot = data.plot.scatter(x=var,  y='usd_pledged_real');\n"
      ],
      "execution_count": null,
      "outputs": [
        {
          "output_type": "stream",
          "text": [
            "*c* argument looks like a single numeric RGB or RGBA sequence, which should be avoided as value-mapping will have precedence in case its length matches with *x* & *y*.  Please use the *color* keyword-argument or provide a 2-D array with a single row if you intend to specify the same RGB or RGBA value for all points.\n"
          ],
          "name": "stderr"
        },
        {
          "output_type": "display_data",
          "data": {
            "image/png": "[encoded data removed]",
            "text/plain": [
              "<Figure size 792x432 with 1 Axes>"
            ]
          },
          "metadata": {
            "tags": []
          }
        }
      ]
    },
    {
      "cell_type": "code",
      "metadata": {
        "id": "uDeIG2335QF1",
        "colab": {
          "base_uri": "https://localhost:8080/",
          "height": 235
        },
        "outputId": "19e3abf9-5b6b-40fe-e74e-f3bdb8b39988"
      },
      "source": [
        "kickstarter.corr()"
      ],
      "execution_count": null,
      "outputs": [
        {
          "output_type": "execute_result",
          "data": {
            "text/html": [
              "<div>\n",
              "<style scoped>\n",
              "    .dataframe tbody tr th:only-of-type {\n",
              "        vertical-align: middle;\n",
              "    }\n",
              "\n",
              "    .dataframe tbody tr th {\n",
              "        vertical-align: top;\n",
              "    }\n",
              "\n",
              "    .dataframe thead th {\n",
              "        text-align: right;\n",
              "    }\n",
              "</style>\n",
              "<table border=\"1\" class=\"dataframe\">\n",
              "  <thead>\n",
              "    <tr style=\"text-align: right;\">\n",
              "      <th></th>\n",
              "      <th>pledged</th>\n",
              "      <th>state</th>\n",
              "      <th>backers</th>\n",
              "      <th>usd_pledged_real</th>\n",
              "      <th>usd_goal_real</th>\n",
              "      <th>days</th>\n",
              "    </tr>\n",
              "  </thead>\n",
              "  <tbody>\n",
              "    <tr>\n",
              "      <th>pledged</th>\n",
              "      <td>1.000000</td>\n",
              "      <td>0.142456</td>\n",
              "      <td>0.693767</td>\n",
              "      <td>0.840936</td>\n",
              "      <td>0.001727</td>\n",
              "      <td>0.015843</td>\n",
              "    </tr>\n",
              "    <tr>\n",
              "      <th>state</th>\n",
              "      <td>0.142456</td>\n",
              "      <td>1.000000</td>\n",
              "      <td>0.201702</td>\n",
              "      <td>0.145893</td>\n",
              "      <td>-0.023091</td>\n",
              "      <td>-0.152128</td>\n",
              "    </tr>\n",
              "    <tr>\n",
              "      <th>backers</th>\n",
              "      <td>0.693767</td>\n",
              "      <td>0.201702</td>\n",
              "      <td>1.000000</td>\n",
              "      <td>0.821984</td>\n",
              "      <td>0.000172</td>\n",
              "      <td>0.005122</td>\n",
              "    </tr>\n",
              "    <tr>\n",
              "      <th>usd_pledged_real</th>\n",
              "      <td>0.840936</td>\n",
              "      <td>0.145893</td>\n",
              "      <td>0.821984</td>\n",
              "      <td>1.000000</td>\n",
              "      <td>0.002199</td>\n",
              "      <td>0.016427</td>\n",
              "    </tr>\n",
              "    <tr>\n",
              "      <th>usd_goal_real</th>\n",
              "      <td>0.001727</td>\n",
              "      <td>-0.023091</td>\n",
              "      <td>0.000172</td>\n",
              "      <td>0.002199</td>\n",
              "      <td>1.000000</td>\n",
              "      <td>0.034464</td>\n",
              "    </tr>\n",
              "    <tr>\n",
              "      <th>days</th>\n",
              "      <td>0.015843</td>\n",
              "      <td>-0.152128</td>\n",
              "      <td>0.005122</td>\n",
              "      <td>0.016427</td>\n",
              "      <td>0.034464</td>\n",
              "      <td>1.000000</td>\n",
              "    </tr>\n",
              "  </tbody>\n",
              "</table>\n",
              "</div>"
            ],
            "text/plain": [
              "                   pledged     state  ...  usd_goal_real      days\n",
              "pledged           1.000000  0.142456  ...       0.001727  0.015843\n",
              "state             0.142456  1.000000  ...      -0.023091 -0.152128\n",
              "backers           0.693767  0.201702  ...       0.000172  0.005122\n",
              "usd_pledged_real  0.840936  0.145893  ...       0.002199  0.016427\n",
              "usd_goal_real     0.001727 -0.023091  ...       1.000000  0.034464\n",
              "days              0.015843 -0.152128  ...       0.034464  1.000000\n",
              "\n",
              "[6 rows x 6 columns]"
            ]
          },
          "metadata": {
            "tags": []
          },
          "execution_count": 39
        }
      ]
    },
    {
      "cell_type": "code",
      "metadata": {
        "id": "kSWMDS-L6lOM"
      },
      "source": [
        ""
      ],
      "execution_count": null,
      "outputs": []
    },
    {
      "cell_type": "markdown",
      "metadata": {
        "id": "YLpxDmYcFzsM"
      },
      "source": [
        "Clustering"
      ]
    },
    {
      "cell_type": "markdown",
      "metadata": {
        "id": "GAfta2BHHrID"
      },
      "source": [
        ""
      ]
    },
    {
      "cell_type": "code",
      "metadata": {
        "colab": {
          "base_uri": "https://localhost:8080/"
        },
        "id": "wPx_WlO1F2Rc",
        "outputId": "7d8604f9-55e5-44f2-d278-d6fc6ca177b1"
      },
      "source": [
        "kickstarter['main_category'].unique()"
      ],
      "execution_count": null,
      "outputs": [
        {
          "output_type": "execute_result",
          "data": {
            "text/plain": [
              "array(['Film & Video', 'Games', 'Fashion', 'Photography', 'Technology',\n",
              "       'Art', 'Publishing', 'Music', 'Journalism', 'Design', 'Food',\n",
              "       'Comics', 'Crafts', 'Dance', 'Theater'], dtype=object)"
            ]
          },
          "metadata": {
            "tags": []
          },
          "execution_count": 40
        }
      ]
    },
    {
      "cell_type": "code",
      "metadata": {
        "id": "K3nC0sI6GB-N"
      },
      "source": [
        "# We create a dataframe that only contains these columns\n",
        "kick_clustering = kickstarter[['state','backers','days','main_category','usd_pledged_real']]"
      ],
      "execution_count": null,
      "outputs": []
    },
    {
      "cell_type": "code",
      "metadata": {
        "id": "SQCGT9oAGkpg"
      },
      "source": [
        "# To recode these we can use mapping\n",
        "mapping = {'Publishing' : 1, 'Film & Video' : 2, 'Music' : 3, 'Food' : 4, 'Design' : 5, 'Crafts' : 6, 'Games' : 7, 'Comics' : 8, 'Fashion' : 9, 'Theater': 10, 'Art' : 11, 'Photography' : 12,'Technology' : 13, 'Dance' : 14, 'Journalism' :15}"
      ],
      "execution_count": null,
      "outputs": []
    },
    {
      "cell_type": "code",
      "metadata": {
        "colab": {
          "base_uri": "https://localhost:8080/"
        },
        "id": "1CvQRnmYHyx5",
        "outputId": "5d1348d6-6628-4a2b-e0b0-765dc9c473ed"
      },
      "source": [
        "kick_clustering['main_category'] = kick_clustering['main_category'].map(mapping)"
      ],
      "execution_count": null,
      "outputs": [
        {
          "output_type": "stream",
          "text": [
            "/usr/local/lib/python3.7/dist-packages/ipykernel_launcher.py:1: SettingWithCopyWarning: \n",
            "A value is trying to be set on a copy of a slice from a DataFrame.\n",
            "Try using .loc[row_indexer,col_indexer] = value instead\n",
            "\n",
            "See the caveats in the documentation: https://pandas.pydata.org/pandas-docs/stable/user_guide/indexing.html#returning-a-view-versus-a-copy\n",
            "  \"\"\"Entry point for launching an IPython kernel.\n"
          ],
          "name": "stderr"
        }
      ]
    },
    {
      "cell_type": "code",
      "metadata": {
        "colab": {
          "base_uri": "https://localhost:8080/",
          "height": 297
        },
        "id": "wT30LXXNIEu0",
        "outputId": "c138c0d7-4c68-4e11-fe69-049972b75d9a"
      },
      "source": [
        "kick_clustering.describe()"
      ],
      "execution_count": null,
      "outputs": [
        {
          "output_type": "execute_result",
          "data": {
            "text/html": [
              "<div>\n",
              "<style scoped>\n",
              "    .dataframe tbody tr th:only-of-type {\n",
              "        vertical-align: middle;\n",
              "    }\n",
              "\n",
              "    .dataframe tbody tr th {\n",
              "        vertical-align: top;\n",
              "    }\n",
              "\n",
              "    .dataframe thead th {\n",
              "        text-align: right;\n",
              "    }\n",
              "</style>\n",
              "<table border=\"1\" class=\"dataframe\">\n",
              "  <thead>\n",
              "    <tr style=\"text-align: right;\">\n",
              "      <th></th>\n",
              "      <th>state</th>\n",
              "      <th>backers</th>\n",
              "      <th>days</th>\n",
              "      <th>main_category</th>\n",
              "      <th>usd_pledged_real</th>\n",
              "    </tr>\n",
              "  </thead>\n",
              "  <tbody>\n",
              "    <tr>\n",
              "      <th>count</th>\n",
              "      <td>49527.000000</td>\n",
              "      <td>49527.000000</td>\n",
              "      <td>49527.000000</td>\n",
              "      <td>49527.000000</td>\n",
              "      <td>4.952700e+04</td>\n",
              "    </tr>\n",
              "    <tr>\n",
              "      <th>mean</th>\n",
              "      <td>0.372766</td>\n",
              "      <td>130.513962</td>\n",
              "      <td>23.244029</td>\n",
              "      <td>6.549014</td>\n",
              "      <td>1.226890e+04</td>\n",
              "    </tr>\n",
              "    <tr>\n",
              "      <th>std</th>\n",
              "      <td>0.483546</td>\n",
              "      <td>722.990769</td>\n",
              "      <td>8.251925</td>\n",
              "      <td>3.997846</td>\n",
              "      <td>9.546398e+04</td>\n",
              "    </tr>\n",
              "    <tr>\n",
              "      <th>min</th>\n",
              "      <td>0.000000</td>\n",
              "      <td>0.000000</td>\n",
              "      <td>0.000000</td>\n",
              "      <td>1.000000</td>\n",
              "      <td>0.000000e+00</td>\n",
              "    </tr>\n",
              "    <tr>\n",
              "      <th>25%</th>\n",
              "      <td>0.000000</td>\n",
              "      <td>2.000000</td>\n",
              "      <td>21.000000</td>\n",
              "      <td>3.000000</td>\n",
              "      <td>4.153500e+01</td>\n",
              "    </tr>\n",
              "    <tr>\n",
              "      <th>50%</th>\n",
              "      <td>0.000000</td>\n",
              "      <td>13.000000</td>\n",
              "      <td>22.000000</td>\n",
              "      <td>6.000000</td>\n",
              "      <td>6.640000e+02</td>\n",
              "    </tr>\n",
              "    <tr>\n",
              "      <th>75%</th>\n",
              "      <td>1.000000</td>\n",
              "      <td>67.000000</td>\n",
              "      <td>25.000000</td>\n",
              "      <td>9.000000</td>\n",
              "      <td>4.834505e+03</td>\n",
              "    </tr>\n",
              "    <tr>\n",
              "      <th>max</th>\n",
              "      <td>1.000000</td>\n",
              "      <td>43733.000000</td>\n",
              "      <td>45.000000</td>\n",
              "      <td>15.000000</td>\n",
              "      <td>7.072757e+06</td>\n",
              "    </tr>\n",
              "  </tbody>\n",
              "</table>\n",
              "</div>"
            ],
            "text/plain": [
              "              state       backers  ...  main_category  usd_pledged_real\n",
              "count  49527.000000  49527.000000  ...   49527.000000      4.952700e+04\n",
              "mean       0.372766    130.513962  ...       6.549014      1.226890e+04\n",
              "std        0.483546    722.990769  ...       3.997846      9.546398e+04\n",
              "min        0.000000      0.000000  ...       1.000000      0.000000e+00\n",
              "25%        0.000000      2.000000  ...       3.000000      4.153500e+01\n",
              "50%        0.000000     13.000000  ...       6.000000      6.640000e+02\n",
              "75%        1.000000     67.000000  ...       9.000000      4.834505e+03\n",
              "max        1.000000  43733.000000  ...      15.000000      7.072757e+06\n",
              "\n",
              "[8 rows x 5 columns]"
            ]
          },
          "metadata": {
            "tags": []
          },
          "execution_count": 44
        }
      ]
    },
    {
      "cell_type": "code",
      "metadata": {
        "id": "J3QyNj7jIQbE"
      },
      "source": [
        "z = kick_clustering.iloc[:,0:5]"
      ],
      "execution_count": null,
      "outputs": []
    },
    {
      "cell_type": "code",
      "metadata": {
        "id": "OJjItBd-IlDe"
      },
      "source": [
        "from sklearn.preprocessing import StandardScaler"
      ],
      "execution_count": null,
      "outputs": []
    },
    {
      "cell_type": "code",
      "metadata": {
        "id": "sTFfQZSdJQr_"
      },
      "source": [
        "scaler = StandardScaler()\n",
        "z = scaler.fit_transform(z)"
      ],
      "execution_count": null,
      "outputs": []
    },
    {
      "cell_type": "code",
      "metadata": {
        "id": "OrmZ-AzDJZ9e"
      },
      "source": [
        "from sklearn.cluster import KMeans\n",
        "model = KMeans(n_clusters = 3)"
      ],
      "execution_count": null,
      "outputs": []
    },
    {
      "cell_type": "code",
      "metadata": {
        "colab": {
          "base_uri": "https://localhost:8080/"
        },
        "id": "xXZUAQZhJpg2",
        "outputId": "d2a0ccef-5dc2-452e-debb-dde34a5347fb"
      },
      "source": [
        "model.fit(z)"
      ],
      "execution_count": null,
      "outputs": [
        {
          "output_type": "execute_result",
          "data": {
            "text/plain": [
              "KMeans(algorithm='auto', copy_x=True, init='k-means++', max_iter=300,\n",
              "       n_clusters=3, n_init=10, n_jobs=None, precompute_distances='auto',\n",
              "       random_state=None, tol=0.0001, verbose=0)"
            ]
          },
          "metadata": {
            "tags": []
          },
          "execution_count": 52
        }
      ]
    },
    {
      "cell_type": "code",
      "metadata": {
        "colab": {
          "base_uri": "https://localhost:8080/"
        },
        "id": "CZGYyLnJKHLH",
        "outputId": "ff2819cd-7648-4c16-b6f9-6c6eda641ffb"
      },
      "source": [
        "kick_clustering['cluster'] = model.labels_"
      ],
      "execution_count": null,
      "outputs": [
        {
          "output_type": "stream",
          "text": [
            "/usr/local/lib/python3.7/dist-packages/ipykernel_launcher.py:1: SettingWithCopyWarning: \n",
            "A value is trying to be set on a copy of a slice from a DataFrame.\n",
            "Try using .loc[row_indexer,col_indexer] = value instead\n",
            "\n",
            "See the caveats in the documentation: https://pandas.pydata.org/pandas-docs/stable/user_guide/indexing.html#returning-a-view-versus-a-copy\n",
            "  \"\"\"Entry point for launching an IPython kernel.\n"
          ],
          "name": "stderr"
        }
      ]
    },
    {
      "cell_type": "code",
      "metadata": {
        "colab": {
          "base_uri": "https://localhost:8080/",
          "height": 1000
        },
        "id": "6xwGzpgrKUPX",
        "outputId": "66e149a9-557d-4fe0-d976-4569d25f6d13"
      },
      "source": [
        "# Let's check out if there are actually projects in 3rd cluster \n",
        "kick_clustering[kick_clustering['cluster'] == 2]"
      ],
      "execution_count": null,
      "outputs": [
        {
          "output_type": "execute_result",
          "data": {
            "text/html": [
              "<div>\n",
              "<style scoped>\n",
              "    .dataframe tbody tr th:only-of-type {\n",
              "        vertical-align: middle;\n",
              "    }\n",
              "\n",
              "    .dataframe tbody tr th {\n",
              "        vertical-align: top;\n",
              "    }\n",
              "\n",
              "    .dataframe thead th {\n",
              "        text-align: right;\n",
              "    }\n",
              "</style>\n",
              "<table border=\"1\" class=\"dataframe\">\n",
              "  <thead>\n",
              "    <tr style=\"text-align: right;\">\n",
              "      <th></th>\n",
              "      <th>state</th>\n",
              "      <th>backers</th>\n",
              "      <th>days</th>\n",
              "      <th>main_category</th>\n",
              "      <th>usd_pledged_real</th>\n",
              "      <th>cluster</th>\n",
              "    </tr>\n",
              "  </thead>\n",
              "  <tbody>\n",
              "    <tr>\n",
              "      <th>39</th>\n",
              "      <td>1</td>\n",
              "      <td>5946</td>\n",
              "      <td>33</td>\n",
              "      <td>13</td>\n",
              "      <td>4236618.49</td>\n",
              "      <td>2</td>\n",
              "    </tr>\n",
              "    <tr>\n",
              "      <th>83</th>\n",
              "      <td>1</td>\n",
              "      <td>12758</td>\n",
              "      <td>22</td>\n",
              "      <td>13</td>\n",
              "      <td>1374021.00</td>\n",
              "      <td>2</td>\n",
              "    </tr>\n",
              "    <tr>\n",
              "      <th>3380</th>\n",
              "      <td>1</td>\n",
              "      <td>10964</td>\n",
              "      <td>25</td>\n",
              "      <td>13</td>\n",
              "      <td>1251380.03</td>\n",
              "      <td>2</td>\n",
              "    </tr>\n",
              "    <tr>\n",
              "      <th>6489</th>\n",
              "      <td>1</td>\n",
              "      <td>18184</td>\n",
              "      <td>23</td>\n",
              "      <td>13</td>\n",
              "      <td>2542045.48</td>\n",
              "      <td>2</td>\n",
              "    </tr>\n",
              "    <tr>\n",
              "      <th>7198</th>\n",
              "      <td>1</td>\n",
              "      <td>12439</td>\n",
              "      <td>15</td>\n",
              "      <td>7</td>\n",
              "      <td>2229365.37</td>\n",
              "      <td>2</td>\n",
              "    </tr>\n",
              "    <tr>\n",
              "      <th>8705</th>\n",
              "      <td>1</td>\n",
              "      <td>10573</td>\n",
              "      <td>44</td>\n",
              "      <td>5</td>\n",
              "      <td>2203254.00</td>\n",
              "      <td>2</td>\n",
              "    </tr>\n",
              "    <tr>\n",
              "      <th>8927</th>\n",
              "      <td>1</td>\n",
              "      <td>33720</td>\n",
              "      <td>22</td>\n",
              "      <td>7</td>\n",
              "      <td>1865140.89</td>\n",
              "      <td>2</td>\n",
              "    </tr>\n",
              "    <tr>\n",
              "      <th>11229</th>\n",
              "      <td>1</td>\n",
              "      <td>26832</td>\n",
              "      <td>23</td>\n",
              "      <td>5</td>\n",
              "      <td>3763048.66</td>\n",
              "      <td>2</td>\n",
              "    </tr>\n",
              "    <tr>\n",
              "      <th>11952</th>\n",
              "      <td>1</td>\n",
              "      <td>8340</td>\n",
              "      <td>33</td>\n",
              "      <td>13</td>\n",
              "      <td>1048262.00</td>\n",
              "      <td>2</td>\n",
              "    </tr>\n",
              "    <tr>\n",
              "      <th>13045</th>\n",
              "      <td>1</td>\n",
              "      <td>13539</td>\n",
              "      <td>44</td>\n",
              "      <td>5</td>\n",
              "      <td>534184.00</td>\n",
              "      <td>2</td>\n",
              "    </tr>\n",
              "    <tr>\n",
              "      <th>14181</th>\n",
              "      <td>1</td>\n",
              "      <td>6705</td>\n",
              "      <td>33</td>\n",
              "      <td>5</td>\n",
              "      <td>2203795.30</td>\n",
              "      <td>2</td>\n",
              "    </tr>\n",
              "    <tr>\n",
              "      <th>14871</th>\n",
              "      <td>1</td>\n",
              "      <td>4301</td>\n",
              "      <td>30</td>\n",
              "      <td>4</td>\n",
              "      <td>1927217.00</td>\n",
              "      <td>2</td>\n",
              "    </tr>\n",
              "    <tr>\n",
              "      <th>15462</th>\n",
              "      <td>1</td>\n",
              "      <td>12196</td>\n",
              "      <td>5</td>\n",
              "      <td>5</td>\n",
              "      <td>1330583.85</td>\n",
              "      <td>2</td>\n",
              "    </tr>\n",
              "    <tr>\n",
              "      <th>18528</th>\n",
              "      <td>1</td>\n",
              "      <td>40642</td>\n",
              "      <td>20</td>\n",
              "      <td>7</td>\n",
              "      <td>3999795.77</td>\n",
              "      <td>2</td>\n",
              "    </tr>\n",
              "    <tr>\n",
              "      <th>19513</th>\n",
              "      <td>1</td>\n",
              "      <td>2144</td>\n",
              "      <td>22</td>\n",
              "      <td>13</td>\n",
              "      <td>2209270.00</td>\n",
              "      <td>2</td>\n",
              "    </tr>\n",
              "    <tr>\n",
              "      <th>19811</th>\n",
              "      <td>1</td>\n",
              "      <td>26828</td>\n",
              "      <td>25</td>\n",
              "      <td>13</td>\n",
              "      <td>5333792.84</td>\n",
              "      <td>2</td>\n",
              "    </tr>\n",
              "    <tr>\n",
              "      <th>20192</th>\n",
              "      <td>1</td>\n",
              "      <td>12229</td>\n",
              "      <td>42</td>\n",
              "      <td>5</td>\n",
              "      <td>1174805.13</td>\n",
              "      <td>2</td>\n",
              "    </tr>\n",
              "    <tr>\n",
              "      <th>20835</th>\n",
              "      <td>1</td>\n",
              "      <td>24066</td>\n",
              "      <td>26</td>\n",
              "      <td>13</td>\n",
              "      <td>1678290.00</td>\n",
              "      <td>2</td>\n",
              "    </tr>\n",
              "    <tr>\n",
              "      <th>21400</th>\n",
              "      <td>1</td>\n",
              "      <td>15766</td>\n",
              "      <td>22</td>\n",
              "      <td>13</td>\n",
              "      <td>2650310.88</td>\n",
              "      <td>2</td>\n",
              "    </tr>\n",
              "    <tr>\n",
              "      <th>21645</th>\n",
              "      <td>1</td>\n",
              "      <td>27235</td>\n",
              "      <td>21</td>\n",
              "      <td>7</td>\n",
              "      <td>5004494.58</td>\n",
              "      <td>2</td>\n",
              "    </tr>\n",
              "    <tr>\n",
              "      <th>22739</th>\n",
              "      <td>1</td>\n",
              "      <td>16200</td>\n",
              "      <td>24</td>\n",
              "      <td>7</td>\n",
              "      <td>3051004.08</td>\n",
              "      <td>2</td>\n",
              "    </tr>\n",
              "    <tr>\n",
              "      <th>23110</th>\n",
              "      <td>1</td>\n",
              "      <td>5050</td>\n",
              "      <td>33</td>\n",
              "      <td>13</td>\n",
              "      <td>2277182.67</td>\n",
              "      <td>2</td>\n",
              "    </tr>\n",
              "    <tr>\n",
              "      <th>24620</th>\n",
              "      <td>1</td>\n",
              "      <td>2897</td>\n",
              "      <td>17</td>\n",
              "      <td>7</td>\n",
              "      <td>3055118.00</td>\n",
              "      <td>2</td>\n",
              "    </tr>\n",
              "    <tr>\n",
              "      <th>25608</th>\n",
              "      <td>1</td>\n",
              "      <td>13699</td>\n",
              "      <td>19</td>\n",
              "      <td>7</td>\n",
              "      <td>1251061.29</td>\n",
              "      <td>2</td>\n",
              "    </tr>\n",
              "    <tr>\n",
              "      <th>28053</th>\n",
              "      <td>1</td>\n",
              "      <td>25412</td>\n",
              "      <td>24</td>\n",
              "      <td>13</td>\n",
              "      <td>2804475.23</td>\n",
              "      <td>2</td>\n",
              "    </tr>\n",
              "    <tr>\n",
              "      <th>28195</th>\n",
              "      <td>1</td>\n",
              "      <td>9040</td>\n",
              "      <td>16</td>\n",
              "      <td>7</td>\n",
              "      <td>1690466.00</td>\n",
              "      <td>2</td>\n",
              "    </tr>\n",
              "    <tr>\n",
              "      <th>28892</th>\n",
              "      <td>1</td>\n",
              "      <td>16019</td>\n",
              "      <td>25</td>\n",
              "      <td>5</td>\n",
              "      <td>804268.00</td>\n",
              "      <td>2</td>\n",
              "    </tr>\n",
              "    <tr>\n",
              "      <th>29612</th>\n",
              "      <td>1</td>\n",
              "      <td>6989</td>\n",
              "      <td>29</td>\n",
              "      <td>5</td>\n",
              "      <td>1845714.00</td>\n",
              "      <td>2</td>\n",
              "    </tr>\n",
              "    <tr>\n",
              "      <th>29630</th>\n",
              "      <td>1</td>\n",
              "      <td>18351</td>\n",
              "      <td>26</td>\n",
              "      <td>7</td>\n",
              "      <td>909057.32</td>\n",
              "      <td>2</td>\n",
              "    </tr>\n",
              "    <tr>\n",
              "      <th>30034</th>\n",
              "      <td>1</td>\n",
              "      <td>6935</td>\n",
              "      <td>29</td>\n",
              "      <td>5</td>\n",
              "      <td>1285142.98</td>\n",
              "      <td>2</td>\n",
              "    </tr>\n",
              "    <tr>\n",
              "      <th>31025</th>\n",
              "      <td>1</td>\n",
              "      <td>7892</td>\n",
              "      <td>13</td>\n",
              "      <td>7</td>\n",
              "      <td>1174130.10</td>\n",
              "      <td>2</td>\n",
              "    </tr>\n",
              "    <tr>\n",
              "      <th>33862</th>\n",
              "      <td>1</td>\n",
              "      <td>15475</td>\n",
              "      <td>22</td>\n",
              "      <td>1</td>\n",
              "      <td>866193.50</td>\n",
              "      <td>2</td>\n",
              "    </tr>\n",
              "    <tr>\n",
              "      <th>35021</th>\n",
              "      <td>1</td>\n",
              "      <td>2909</td>\n",
              "      <td>22</td>\n",
              "      <td>5</td>\n",
              "      <td>1703914.77</td>\n",
              "      <td>2</td>\n",
              "    </tr>\n",
              "    <tr>\n",
              "      <th>36016</th>\n",
              "      <td>1</td>\n",
              "      <td>13349</td>\n",
              "      <td>32</td>\n",
              "      <td>13</td>\n",
              "      <td>1118389.96</td>\n",
              "      <td>2</td>\n",
              "    </tr>\n",
              "    <tr>\n",
              "      <th>36166</th>\n",
              "      <td>1</td>\n",
              "      <td>11027</td>\n",
              "      <td>33</td>\n",
              "      <td>5</td>\n",
              "      <td>1778861.32</td>\n",
              "      <td>2</td>\n",
              "    </tr>\n",
              "    <tr>\n",
              "      <th>36339</th>\n",
              "      <td>1</td>\n",
              "      <td>22834</td>\n",
              "      <td>6</td>\n",
              "      <td>11</td>\n",
              "      <td>1364835.45</td>\n",
              "      <td>2</td>\n",
              "    </tr>\n",
              "    <tr>\n",
              "      <th>36465</th>\n",
              "      <td>1</td>\n",
              "      <td>31262</td>\n",
              "      <td>20</td>\n",
              "      <td>7</td>\n",
              "      <td>4228060.00</td>\n",
              "      <td>2</td>\n",
              "    </tr>\n",
              "    <tr>\n",
              "      <th>36792</th>\n",
              "      <td>1</td>\n",
              "      <td>12354</td>\n",
              "      <td>28</td>\n",
              "      <td>5</td>\n",
              "      <td>901058.04</td>\n",
              "      <td>2</td>\n",
              "    </tr>\n",
              "    <tr>\n",
              "      <th>38410</th>\n",
              "      <td>1</td>\n",
              "      <td>11661</td>\n",
              "      <td>23</td>\n",
              "      <td>5</td>\n",
              "      <td>744628.00</td>\n",
              "      <td>2</td>\n",
              "    </tr>\n",
              "    <tr>\n",
              "      <th>38646</th>\n",
              "      <td>1</td>\n",
              "      <td>9099</td>\n",
              "      <td>29</td>\n",
              "      <td>13</td>\n",
              "      <td>1050200.00</td>\n",
              "      <td>2</td>\n",
              "    </tr>\n",
              "    <tr>\n",
              "      <th>39863</th>\n",
              "      <td>1</td>\n",
              "      <td>23805</td>\n",
              "      <td>25</td>\n",
              "      <td>5</td>\n",
              "      <td>4729263.13</td>\n",
              "      <td>2</td>\n",
              "    </tr>\n",
              "    <tr>\n",
              "      <th>40991</th>\n",
              "      <td>1</td>\n",
              "      <td>12159</td>\n",
              "      <td>23</td>\n",
              "      <td>7</td>\n",
              "      <td>1100212.00</td>\n",
              "      <td>2</td>\n",
              "    </tr>\n",
              "    <tr>\n",
              "      <th>41199</th>\n",
              "      <td>1</td>\n",
              "      <td>956</td>\n",
              "      <td>33</td>\n",
              "      <td>5</td>\n",
              "      <td>2370611.00</td>\n",
              "      <td>2</td>\n",
              "    </tr>\n",
              "    <tr>\n",
              "      <th>42211</th>\n",
              "      <td>1</td>\n",
              "      <td>16077</td>\n",
              "      <td>22</td>\n",
              "      <td>5</td>\n",
              "      <td>4198137.57</td>\n",
              "      <td>2</td>\n",
              "    </tr>\n",
              "    <tr>\n",
              "      <th>42600</th>\n",
              "      <td>1</td>\n",
              "      <td>43733</td>\n",
              "      <td>17</td>\n",
              "      <td>7</td>\n",
              "      <td>7072757.00</td>\n",
              "      <td>2</td>\n",
              "    </tr>\n",
              "    <tr>\n",
              "      <th>42848</th>\n",
              "      <td>1</td>\n",
              "      <td>19251</td>\n",
              "      <td>28</td>\n",
              "      <td>13</td>\n",
              "      <td>3203762.00</td>\n",
              "      <td>2</td>\n",
              "    </tr>\n",
              "    <tr>\n",
              "      <th>42906</th>\n",
              "      <td>1</td>\n",
              "      <td>8399</td>\n",
              "      <td>33</td>\n",
              "      <td>5</td>\n",
              "      <td>1206178.99</td>\n",
              "      <td>2</td>\n",
              "    </tr>\n",
              "    <tr>\n",
              "      <th>43398</th>\n",
              "      <td>1</td>\n",
              "      <td>15996</td>\n",
              "      <td>33</td>\n",
              "      <td>5</td>\n",
              "      <td>475193.70</td>\n",
              "      <td>2</td>\n",
              "    </tr>\n",
              "    <tr>\n",
              "      <th>44839</th>\n",
              "      <td>1</td>\n",
              "      <td>14971</td>\n",
              "      <td>22</td>\n",
              "      <td>7</td>\n",
              "      <td>575377.06</td>\n",
              "      <td>2</td>\n",
              "    </tr>\n",
              "    <tr>\n",
              "      <th>44862</th>\n",
              "      <td>1</td>\n",
              "      <td>9987</td>\n",
              "      <td>23</td>\n",
              "      <td>7</td>\n",
              "      <td>2152285.02</td>\n",
              "      <td>2</td>\n",
              "    </tr>\n",
              "    <tr>\n",
              "      <th>46478</th>\n",
              "      <td>1</td>\n",
              "      <td>19576</td>\n",
              "      <td>24</td>\n",
              "      <td>7</td>\n",
              "      <td>3271809.31</td>\n",
              "      <td>2</td>\n",
              "    </tr>\n",
              "    <tr>\n",
              "      <th>48119</th>\n",
              "      <td>1</td>\n",
              "      <td>6034</td>\n",
              "      <td>25</td>\n",
              "      <td>13</td>\n",
              "      <td>1631827.00</td>\n",
              "      <td>2</td>\n",
              "    </tr>\n",
              "  </tbody>\n",
              "</table>\n",
              "</div>"
            ],
            "text/plain": [
              "       state  backers  days  main_category  usd_pledged_real  cluster\n",
              "39         1     5946    33             13        4236618.49        2\n",
              "83         1    12758    22             13        1374021.00        2\n",
              "3380       1    10964    25             13        1251380.03        2\n",
              "6489       1    18184    23             13        2542045.48        2\n",
              "7198       1    12439    15              7        2229365.37        2\n",
              "8705       1    10573    44              5        2203254.00        2\n",
              "8927       1    33720    22              7        1865140.89        2\n",
              "11229      1    26832    23              5        3763048.66        2\n",
              "11952      1     8340    33             13        1048262.00        2\n",
              "13045      1    13539    44              5         534184.00        2\n",
              "14181      1     6705    33              5        2203795.30        2\n",
              "14871      1     4301    30              4        1927217.00        2\n",
              "15462      1    12196     5              5        1330583.85        2\n",
              "18528      1    40642    20              7        3999795.77        2\n",
              "19513      1     2144    22             13        2209270.00        2\n",
              "19811      1    26828    25             13        5333792.84        2\n",
              "20192      1    12229    42              5        1174805.13        2\n",
              "20835      1    24066    26             13        1678290.00        2\n",
              "21400      1    15766    22             13        2650310.88        2\n",
              "21645      1    27235    21              7        5004494.58        2\n",
              "22739      1    16200    24              7        3051004.08        2\n",
              "23110      1     5050    33             13        2277182.67        2\n",
              "24620      1     2897    17              7        3055118.00        2\n",
              "25608      1    13699    19              7        1251061.29        2\n",
              "28053      1    25412    24             13        2804475.23        2\n",
              "28195      1     9040    16              7        1690466.00        2\n",
              "28892      1    16019    25              5         804268.00        2\n",
              "29612      1     6989    29              5        1845714.00        2\n",
              "29630      1    18351    26              7         909057.32        2\n",
              "30034      1     6935    29              5        1285142.98        2\n",
              "31025      1     7892    13              7        1174130.10        2\n",
              "33862      1    15475    22              1         866193.50        2\n",
              "35021      1     2909    22              5        1703914.77        2\n",
              "36016      1    13349    32             13        1118389.96        2\n",
              "36166      1    11027    33              5        1778861.32        2\n",
              "36339      1    22834     6             11        1364835.45        2\n",
              "36465      1    31262    20              7        4228060.00        2\n",
              "36792      1    12354    28              5         901058.04        2\n",
              "38410      1    11661    23              5         744628.00        2\n",
              "38646      1     9099    29             13        1050200.00        2\n",
              "39863      1    23805    25              5        4729263.13        2\n",
              "40991      1    12159    23              7        1100212.00        2\n",
              "41199      1      956    33              5        2370611.00        2\n",
              "42211      1    16077    22              5        4198137.57        2\n",
              "42600      1    43733    17              7        7072757.00        2\n",
              "42848      1    19251    28             13        3203762.00        2\n",
              "42906      1     8399    33              5        1206178.99        2\n",
              "43398      1    15996    33              5         475193.70        2\n",
              "44839      1    14971    22              7         575377.06        2\n",
              "44862      1     9987    23              7        2152285.02        2\n",
              "46478      1    19576    24              7        3271809.31        2\n",
              "48119      1     6034    25             13        1631827.00        2"
            ]
          },
          "metadata": {
            "tags": []
          },
          "execution_count": 55
        }
      ]
    },
    {
      "cell_type": "code",
      "metadata": {
        "colab": {
          "base_uri": "https://localhost:8080/"
        },
        "id": "JLjPG4axKfo3",
        "outputId": "7e6858fd-fb50-4c81-c342-949b9eef713e"
      },
      "source": [
        "kick_clustering.info()"
      ],
      "execution_count": null,
      "outputs": [
        {
          "output_type": "stream",
          "text": [
            "<class 'pandas.core.frame.DataFrame'>\n",
            "Int64Index: 49527 entries, 0 to 52323\n",
            "Data columns (total 6 columns):\n",
            " #   Column            Non-Null Count  Dtype  \n",
            "---  ------            --------------  -----  \n",
            " 0   state             49527 non-null  int64  \n",
            " 1   backers           49527 non-null  int64  \n",
            " 2   days              49527 non-null  int64  \n",
            " 3   main_category     49527 non-null  int64  \n",
            " 4   usd_pledged_real  49527 non-null  float64\n",
            " 5   cluster           49527 non-null  int32  \n",
            "dtypes: float64(1), int32(1), int64(4)\n",
            "memory usage: 3.7 MB\n"
          ],
          "name": "stdout"
        }
      ]
    },
    {
      "cell_type": "code",
      "metadata": {
        "id": "wwN3ULmMKxwg"
      },
      "source": [
        ""
      ],
      "execution_count": null,
      "outputs": []
    }
  ]
}